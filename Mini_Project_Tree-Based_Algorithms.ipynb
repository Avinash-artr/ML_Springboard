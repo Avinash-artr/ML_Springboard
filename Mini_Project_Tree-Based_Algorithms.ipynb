{
 "cells": [
  {
   "cell_type": "markdown",
   "metadata": {},
   "source": [
    "# Mini Project: Tree-Based Algorithms"
   ]
  },
  {
   "cell_type": "markdown",
   "metadata": {},
   "source": [
    "## The \"German Credit\" Dataset"
   ]
  },
  {
   "cell_type": "markdown",
   "metadata": {},
   "source": [
    "### Dataset Details"
   ]
  },
  {
   "cell_type": "markdown",
   "metadata": {},
   "source": [
    "This dataset has two classes (these would be considered labels in Machine Learning terms) to describe the worthiness of a personal loan: \"Good\" or \"Bad\". There are predictors related to attributes, such as: checking account status, duration, credit history, purpose of the loan, amount of the loan, savings accounts or bonds, employment duration, installment rate in percentage of disposable income, personal information, other debtors/guarantors, residence duration, property, age, other installment plans, housing, number of existing credits, job information, number of people being liable to provide maintenance for, telephone, and foreign worker status.\n",
    "\n",
    "Many of these predictors are discrete and have been expanded into several 0/1 indicator variables (a.k.a. they have been one-hot-encoded).\n",
    "\n",
    "This dataset has been kindly provided by Professor Dr. Hans Hofmann of the University of Hamburg, and can also be found on the UCI Machine Learning Repository."
   ]
  },
  {
   "cell_type": "markdown",
   "metadata": {},
   "source": [
    "\n",
    "\n",
    "\n"
   ]
  },
  {
   "cell_type": "markdown",
   "metadata": {},
   "source": [
    "## Decision Trees"
   ]
  },
  {
   "cell_type": "markdown",
   "metadata": {},
   "source": [
    " As we have learned in the previous lectures, Decision Trees as a family of algorithms (irrespective to the particular implementation) are powerful algorithms that can produce models with a predictive accuracy higher than that produced by linear models, such as Linear or Logistic Regression. Primarily, this is due to the fact the DT's can model nonlinear relationships, and also have a number of tuning paramters, that allow for the practicioner to achieve the best possible model. An added bonus is the ability to visualize the trained Decision Tree model, which allows for some insight into how the model has produced the predictions that it has. One caveat here, to keep in mind, is that sometimes, due to the size of the dataset (both in the sense of the number of records, as well as the number of features), the visualization might prove to be very large and complex, increasing the difficulty of interpretation."
   ]
  },
  {
   "cell_type": "markdown",
   "metadata": {},
   "source": [
    "To give you a very good example of how Decision Trees can be visualized and interpreted, we would strongly recommend that, before continuing on with solving the problems in this Mini Project, you take the time to read this fanstastic, detailed and informative blog post: http://explained.ai/decision-tree-viz/index.html"
   ]
  },
  {
   "cell_type": "markdown",
   "metadata": {},
   "source": [
    "## Building Your First Decision Tree Model"
   ]
  },
  {
   "cell_type": "markdown",
   "metadata": {},
   "source": [
    "So, now it's time to jump straight into the heart of the matter. Your first task, is to build a Decision Tree model, using the aforementioned \"German Credit\" dataset, which contains 1,000 records, and 62 columns (one of them presents the labels, and the other 61 present the potential features for the model.)"
   ]
  },
  {
   "cell_type": "markdown",
   "metadata": {},
   "source": [
    "For this task, you will be using the scikit-learn library, which comes already pre-installed with the Anaconda Python distribution. In case you're not using that, you can easily install it using pip."
   ]
  },
  {
   "cell_type": "markdown",
   "metadata": {},
   "source": [
    "Before embarking on creating your first model, we would strongly encourage you to read the short tutorial for Decision Trees in scikit-learn (http://scikit-learn.org/stable/modules/tree.html), and then dive a bit deeper into the documentation of the algorithm itself (http://scikit-learn.org/stable/modules/generated/sklearn.tree.DecisionTreeClassifier.html). "
   ]
  },
  {
   "cell_type": "markdown",
   "metadata": {},
   "source": [
    "Also, since you want to be able to present the results of your model, we suggest you take a look at the tutorial for accuracy metrics for classification models (http://scikit-learn.org/stable/modules/model_evaluation.html#classification-report) as well as the more detailed documentation (http://scikit-learn.org/stable/modules/generated/sklearn.metrics.classification_report.html).\n",
    "\n",
    "Finally, an *amazing* resource that explains the various classification model accuracy metrics, as well as the relationships between them, can be found on Wikipedia: https://en.wikipedia.org/wiki/Confusion_matrix"
   ]
  },
  {
   "cell_type": "markdown",
   "metadata": {},
   "source": [
    "(Note: as you've already learned in the Logistic Regression mini project, a standard practice in Machine Learning for achieving the best possible result when training a model is to use hyperparameter tuning, through Grid Search and k-fold Cross Validation. We strongly encourage you to use it here as well, not just because it's standard practice, but also becuase it's not going to be computationally to intensive, due to the size of the dataset that you're working with. Our suggestion here is that you split the data into 70% training, and 30% testing. Then, do the hyperparameter tuning and Cross Validation on the training set, and afterwards to a final test on the testing set.)"
   ]
  },
  {
   "cell_type": "markdown",
   "metadata": {},
   "source": [
    "### Now we pass the torch onto you! You can start building your first Decision Tree model! :)"
   ]
  },
  {
   "cell_type": "code",
   "execution_count": 1,
   "metadata": {},
   "outputs": [],
   "source": [
    "import pandas as pd\n",
    "import numpy as np\n",
    "from sklearn import tree, preprocessing\n",
    "from sklearn.tree import DecisionTreeClassifier\n",
    "from sklearn.metrics import classification_report\n",
    "from sklearn.model_selection import train_test_split\n",
    "from sklearn.model_selection import GridSearchCV\n",
    "from sklearn.metrics import accuracy_score\n"
   ]
  },
  {
   "cell_type": "code",
   "execution_count": 51,
   "metadata": {},
   "outputs": [
    {
     "data": {
      "text/html": [
       "<div>\n",
       "<style scoped>\n",
       "    .dataframe tbody tr th:only-of-type {\n",
       "        vertical-align: middle;\n",
       "    }\n",
       "\n",
       "    .dataframe tbody tr th {\n",
       "        vertical-align: top;\n",
       "    }\n",
       "\n",
       "    .dataframe thead th {\n",
       "        text-align: right;\n",
       "    }\n",
       "</style>\n",
       "<table border=\"1\" class=\"dataframe\">\n",
       "  <thead>\n",
       "    <tr style=\"text-align: right;\">\n",
       "      <th></th>\n",
       "      <th>Duration</th>\n",
       "      <th>Amount</th>\n",
       "      <th>InstallmentRatePercentage</th>\n",
       "      <th>ResidenceDuration</th>\n",
       "      <th>Age</th>\n",
       "      <th>NumberExistingCredits</th>\n",
       "      <th>NumberPeopleMaintenance</th>\n",
       "      <th>Telephone</th>\n",
       "      <th>ForeignWorker</th>\n",
       "      <th>Class</th>\n",
       "      <th>...</th>\n",
       "      <th>OtherInstallmentPlans.Bank</th>\n",
       "      <th>OtherInstallmentPlans.Stores</th>\n",
       "      <th>OtherInstallmentPlans.None</th>\n",
       "      <th>Housing.Rent</th>\n",
       "      <th>Housing.Own</th>\n",
       "      <th>Housing.ForFree</th>\n",
       "      <th>Job.UnemployedUnskilled</th>\n",
       "      <th>Job.UnskilledResident</th>\n",
       "      <th>Job.SkilledEmployee</th>\n",
       "      <th>Job.Management.SelfEmp.HighlyQualified</th>\n",
       "    </tr>\n",
       "  </thead>\n",
       "  <tbody>\n",
       "    <tr>\n",
       "      <th>0</th>\n",
       "      <td>6</td>\n",
       "      <td>1169</td>\n",
       "      <td>4</td>\n",
       "      <td>4</td>\n",
       "      <td>67</td>\n",
       "      <td>2</td>\n",
       "      <td>1</td>\n",
       "      <td>0</td>\n",
       "      <td>1</td>\n",
       "      <td>Good</td>\n",
       "      <td>...</td>\n",
       "      <td>0</td>\n",
       "      <td>0</td>\n",
       "      <td>1</td>\n",
       "      <td>0</td>\n",
       "      <td>1</td>\n",
       "      <td>0</td>\n",
       "      <td>0</td>\n",
       "      <td>0</td>\n",
       "      <td>1</td>\n",
       "      <td>0</td>\n",
       "    </tr>\n",
       "    <tr>\n",
       "      <th>1</th>\n",
       "      <td>48</td>\n",
       "      <td>5951</td>\n",
       "      <td>2</td>\n",
       "      <td>2</td>\n",
       "      <td>22</td>\n",
       "      <td>1</td>\n",
       "      <td>1</td>\n",
       "      <td>1</td>\n",
       "      <td>1</td>\n",
       "      <td>Bad</td>\n",
       "      <td>...</td>\n",
       "      <td>0</td>\n",
       "      <td>0</td>\n",
       "      <td>1</td>\n",
       "      <td>0</td>\n",
       "      <td>1</td>\n",
       "      <td>0</td>\n",
       "      <td>0</td>\n",
       "      <td>0</td>\n",
       "      <td>1</td>\n",
       "      <td>0</td>\n",
       "    </tr>\n",
       "    <tr>\n",
       "      <th>2</th>\n",
       "      <td>12</td>\n",
       "      <td>2096</td>\n",
       "      <td>2</td>\n",
       "      <td>3</td>\n",
       "      <td>49</td>\n",
       "      <td>1</td>\n",
       "      <td>2</td>\n",
       "      <td>1</td>\n",
       "      <td>1</td>\n",
       "      <td>Good</td>\n",
       "      <td>...</td>\n",
       "      <td>0</td>\n",
       "      <td>0</td>\n",
       "      <td>1</td>\n",
       "      <td>0</td>\n",
       "      <td>1</td>\n",
       "      <td>0</td>\n",
       "      <td>0</td>\n",
       "      <td>1</td>\n",
       "      <td>0</td>\n",
       "      <td>0</td>\n",
       "    </tr>\n",
       "    <tr>\n",
       "      <th>3</th>\n",
       "      <td>42</td>\n",
       "      <td>7882</td>\n",
       "      <td>2</td>\n",
       "      <td>4</td>\n",
       "      <td>45</td>\n",
       "      <td>1</td>\n",
       "      <td>2</td>\n",
       "      <td>1</td>\n",
       "      <td>1</td>\n",
       "      <td>Good</td>\n",
       "      <td>...</td>\n",
       "      <td>0</td>\n",
       "      <td>0</td>\n",
       "      <td>1</td>\n",
       "      <td>0</td>\n",
       "      <td>0</td>\n",
       "      <td>1</td>\n",
       "      <td>0</td>\n",
       "      <td>0</td>\n",
       "      <td>1</td>\n",
       "      <td>0</td>\n",
       "    </tr>\n",
       "    <tr>\n",
       "      <th>4</th>\n",
       "      <td>24</td>\n",
       "      <td>4870</td>\n",
       "      <td>3</td>\n",
       "      <td>4</td>\n",
       "      <td>53</td>\n",
       "      <td>2</td>\n",
       "      <td>2</td>\n",
       "      <td>1</td>\n",
       "      <td>1</td>\n",
       "      <td>Bad</td>\n",
       "      <td>...</td>\n",
       "      <td>0</td>\n",
       "      <td>0</td>\n",
       "      <td>1</td>\n",
       "      <td>0</td>\n",
       "      <td>0</td>\n",
       "      <td>1</td>\n",
       "      <td>0</td>\n",
       "      <td>0</td>\n",
       "      <td>1</td>\n",
       "      <td>0</td>\n",
       "    </tr>\n",
       "  </tbody>\n",
       "</table>\n",
       "<p>5 rows × 62 columns</p>\n",
       "</div>"
      ],
      "text/plain": [
       "   Duration  Amount  InstallmentRatePercentage  ResidenceDuration  Age  \\\n",
       "0         6    1169                          4                  4   67   \n",
       "1        48    5951                          2                  2   22   \n",
       "2        12    2096                          2                  3   49   \n",
       "3        42    7882                          2                  4   45   \n",
       "4        24    4870                          3                  4   53   \n",
       "\n",
       "   NumberExistingCredits  NumberPeopleMaintenance  Telephone  ForeignWorker  \\\n",
       "0                      2                        1          0              1   \n",
       "1                      1                        1          1              1   \n",
       "2                      1                        2          1              1   \n",
       "3                      1                        2          1              1   \n",
       "4                      2                        2          1              1   \n",
       "\n",
       "  Class  ...  OtherInstallmentPlans.Bank  OtherInstallmentPlans.Stores  \\\n",
       "0  Good  ...                           0                             0   \n",
       "1   Bad  ...                           0                             0   \n",
       "2  Good  ...                           0                             0   \n",
       "3  Good  ...                           0                             0   \n",
       "4   Bad  ...                           0                             0   \n",
       "\n",
       "   OtherInstallmentPlans.None  Housing.Rent  Housing.Own  Housing.ForFree  \\\n",
       "0                           1             0            1                0   \n",
       "1                           1             0            1                0   \n",
       "2                           1             0            1                0   \n",
       "3                           1             0            0                1   \n",
       "4                           1             0            0                1   \n",
       "\n",
       "   Job.UnemployedUnskilled  Job.UnskilledResident  Job.SkilledEmployee  \\\n",
       "0                        0                      0                    1   \n",
       "1                        0                      0                    1   \n",
       "2                        0                      1                    0   \n",
       "3                        0                      0                    1   \n",
       "4                        0                      0                    1   \n",
       "\n",
       "   Job.Management.SelfEmp.HighlyQualified  \n",
       "0                                       0  \n",
       "1                                       0  \n",
       "2                                       0  \n",
       "3                                       0  \n",
       "4                                       0  \n",
       "\n",
       "[5 rows x 62 columns]"
      ]
     },
     "execution_count": 51,
     "metadata": {},
     "output_type": "execute_result"
    }
   ],
   "source": [
    "# Reading German Credit Dataset\n",
    "gc_data = pd.read_csv(\"GermanCredit.csv\")\n",
    "gc_data.head()"
   ]
  },
  {
   "cell_type": "code",
   "execution_count": 5,
   "metadata": {},
   "outputs": [],
   "source": [
    "gc_features=gc_data.loc[:, gc_data.columns!='Class']\n",
    "\n",
    "Xlr, Xtestlr, Ylr, Ytestlr = train_test_split(gc_features.values, (gc_data.Class==\"Good\").values, random_state=0)"
   ]
  },
  {
   "cell_type": "code",
   "execution_count": 6,
   "metadata": {},
   "outputs": [],
   "source": [
    "clf = DecisionTreeClassifier(random_state=1)\n",
    "clf = clf.fit(Xlr, Ylr)"
   ]
  },
  {
   "cell_type": "code",
   "execution_count": 12,
   "metadata": {},
   "outputs": [
    {
     "name": "stdout",
     "output_type": "stream",
     "text": [
      "0.716\n"
     ]
    }
   ],
   "source": [
    "print(accuracy_score(clf.predict(Xtestlr), Ytestlr))"
   ]
  },
  {
   "cell_type": "code",
   "execution_count": 7,
   "metadata": {},
   "outputs": [
    {
     "data": {
      "text/plain": [
       "[Text(371.3836978131213, 359.8736842105263, 'X[12] <= 0.5\\nentropy = 0.421\\nsamples = 750\\nvalue = [226, 524]'),\n",
       " Text(279.0, 340.4210526315789, 'X[0] <= 43.5\\nentropy = 0.485\\nsamples = 458\\nvalue = [189, 269]'),\n",
       " Text(215.8290258449304, 320.9684210526316, 'X[9] <= 0.5\\nentropy = 0.473\\nsamples = 425\\nvalue = [163, 262]'),\n",
       " Text(166.58648111332008, 301.5157894736842, 'X[1] <= 8142.0\\nentropy = 0.419\\nsamples = 228\\nvalue = [68, 160]'),\n",
       " Text(143.84493041749505, 282.06315789473683, 'X[14] <= 0.5\\nentropy = 0.399\\nsamples = 218\\nvalue = [60, 158]'),\n",
       " Text(118.08349900596421, 262.61052631578946, 'X[13] <= 0.5\\nentropy = 0.38\\nsamples = 208\\nvalue = [53, 155]'),\n",
       " Text(86.28230616302187, 243.15789473684208, 'X[0] <= 8.5\\nentropy = 0.358\\nsamples = 197\\nvalue = [46, 151]'),\n",
       " Text(82.33797216699801, 223.70526315789473, 'entropy = 0.0\\nsamples = 22\\nvalue = [0, 22]'),\n",
       " Text(90.22664015904573, 223.70526315789473, 'X[1] <= 2082.5\\nentropy = 0.388\\nsamples = 175\\nvalue = [46, 129]'),\n",
       " Text(71.98409542743539, 204.25263157894736, 'X[6] <= 1.5\\nentropy = 0.454\\nsamples = 92\\nvalue = [32, 60]'),\n",
       " Text(61.137176938369784, 184.8, 'X[52] <= 0.5\\nentropy = 0.421\\nsamples = 83\\nvalue = [25, 58]'),\n",
       " Text(57.192842942345926, 165.34736842105264, 'X[1] <= 1906.5\\nentropy = 0.39\\nsamples = 79\\nvalue = [21, 58]'),\n",
       " Text(39.44333996023857, 145.89473684210526, 'X[49] <= 0.5\\nentropy = 0.334\\nsamples = 66\\nvalue = [14, 52]'),\n",
       " Text(23.66600397614314, 126.44210526315791, 'X[3] <= 3.5\\nentropy = 0.227\\nsamples = 46\\nvalue = [6, 40]'),\n",
       " Text(19.721669980119284, 106.98947368421057, 'X[1] <= 1259.0\\nentropy = 0.365\\nsamples = 25\\nvalue = [6, 19]'),\n",
       " Text(7.888667992047714, 87.53684210526319, 'X[44] <= 0.5\\nentropy = 0.486\\nsamples = 12\\nvalue = [5, 7]'),\n",
       " Text(3.944333996023857, 68.08421052631581, 'entropy = 0.0\\nsamples = 4\\nvalue = [0, 4]'),\n",
       " Text(11.83300198807157, 68.08421052631581, 'X[4] <= 26.0\\nentropy = 0.469\\nsamples = 8\\nvalue = [5, 3]'),\n",
       " Text(7.888667992047714, 48.63157894736844, 'entropy = 0.0\\nsamples = 2\\nvalue = [0, 2]'),\n",
       " Text(15.777335984095428, 48.63157894736844, 'X[3] <= 2.5\\nentropy = 0.278\\nsamples = 6\\nvalue = [5, 1]'),\n",
       " Text(11.83300198807157, 29.178947368421063, 'entropy = 0.0\\nsamples = 4\\nvalue = [4, 0]'),\n",
       " Text(19.721669980119284, 29.178947368421063, 'X[0] <= 10.5\\nentropy = 0.5\\nsamples = 2\\nvalue = [1, 1]'),\n",
       " Text(15.777335984095428, 9.726315789473688, 'entropy = 0.0\\nsamples = 1\\nvalue = [0, 1]'),\n",
       " Text(23.66600397614314, 9.726315789473688, 'entropy = 0.0\\nsamples = 1\\nvalue = [1, 0]'),\n",
       " Text(31.554671968190856, 87.53684210526319, 'X[2] <= 2.0\\nentropy = 0.142\\nsamples = 13\\nvalue = [1, 12]'),\n",
       " Text(27.610337972167, 68.08421052631581, 'X[29] <= 0.5\\nentropy = 0.5\\nsamples = 2\\nvalue = [1, 1]'),\n",
       " Text(23.66600397614314, 48.63157894736844, 'entropy = 0.0\\nsamples = 1\\nvalue = [0, 1]'),\n",
       " Text(31.554671968190856, 48.63157894736844, 'entropy = 0.0\\nsamples = 1\\nvalue = [1, 0]'),\n",
       " Text(35.49900596421471, 68.08421052631581, 'entropy = 0.0\\nsamples = 11\\nvalue = [0, 11]'),\n",
       " Text(27.610337972167, 106.98947368421057, 'entropy = 0.0\\nsamples = 21\\nvalue = [0, 21]'),\n",
       " Text(55.220675944334, 126.44210526315791, 'X[34] <= 0.5\\nentropy = 0.48\\nsamples = 20\\nvalue = [8, 12]'),\n",
       " Text(51.27634194831014, 106.98947368421057, 'X[42] <= 0.5\\nentropy = 0.375\\nsamples = 16\\nvalue = [4, 12]'),\n",
       " Text(47.33200795228628, 87.53684210526319, 'X[1] <= 860.5\\nentropy = 0.245\\nsamples = 14\\nvalue = [2, 12]'),\n",
       " Text(43.387673956262425, 68.08421052631581, 'entropy = 0.0\\nsamples = 1\\nvalue = [1, 0]'),\n",
       " Text(51.27634194831014, 68.08421052631581, 'X[0] <= 9.5\\nentropy = 0.142\\nsamples = 13\\nvalue = [1, 12]'),\n",
       " Text(47.33200795228628, 48.63157894736844, 'X[3] <= 3.5\\nentropy = 0.5\\nsamples = 2\\nvalue = [1, 1]'),\n",
       " Text(43.387673956262425, 29.178947368421063, 'entropy = 0.0\\nsamples = 1\\nvalue = [1, 0]'),\n",
       " Text(51.27634194831014, 29.178947368421063, 'entropy = 0.0\\nsamples = 1\\nvalue = [0, 1]'),\n",
       " Text(55.220675944334, 48.63157894736844, 'entropy = 0.0\\nsamples = 11\\nvalue = [0, 11]'),\n",
       " Text(55.220675944334, 87.53684210526319, 'entropy = 0.0\\nsamples = 2\\nvalue = [2, 0]'),\n",
       " Text(59.165009940357855, 106.98947368421057, 'entropy = 0.0\\nsamples = 4\\nvalue = [4, 0]'),\n",
       " Text(74.94234592445328, 145.89473684210526, 'X[49] <= 0.5\\nentropy = 0.497\\nsamples = 13\\nvalue = [7, 6]'),\n",
       " Text(70.99801192842942, 126.44210526315791, 'X[4] <= 26.5\\nentropy = 0.219\\nsamples = 8\\nvalue = [7, 1]'),\n",
       " Text(67.05367793240556, 106.98947368421057, 'X[41] <= 0.5\\nentropy = 0.5\\nsamples = 2\\nvalue = [1, 1]'),\n",
       " Text(63.10934393638171, 87.53684210526319, 'entropy = 0.0\\nsamples = 1\\nvalue = [1, 0]'),\n",
       " Text(70.99801192842942, 87.53684210526319, 'entropy = 0.0\\nsamples = 1\\nvalue = [0, 1]'),\n",
       " Text(74.94234592445328, 106.98947368421057, 'entropy = 0.0\\nsamples = 6\\nvalue = [6, 0]'),\n",
       " Text(78.88667992047714, 126.44210526315791, 'entropy = 0.0\\nsamples = 5\\nvalue = [0, 5]'),\n",
       " Text(65.08151093439363, 165.34736842105264, 'entropy = 0.0\\nsamples = 4\\nvalue = [4, 0]'),\n",
       " Text(82.83101391650099, 184.8, 'X[47] <= 0.5\\nentropy = 0.346\\nsamples = 9\\nvalue = [7, 2]'),\n",
       " Text(78.88667992047714, 165.34736842105264, 'entropy = 0.0\\nsamples = 6\\nvalue = [6, 0]'),\n",
       " Text(86.77534791252485, 165.34736842105264, 'X[11] <= 0.5\\nentropy = 0.444\\nsamples = 3\\nvalue = [1, 2]'),\n",
       " Text(82.83101391650099, 145.89473684210526, 'entropy = 0.0\\nsamples = 2\\nvalue = [0, 2]'),\n",
       " Text(90.71968190854871, 145.89473684210526, 'entropy = 0.0\\nsamples = 1\\nvalue = [1, 0]'),\n",
       " Text(108.46918489065607, 204.25263157894736, 'X[4] <= 22.5\\nentropy = 0.28\\nsamples = 83\\nvalue = [14, 69]'),\n",
       " Text(98.60834990059642, 184.8, 'X[15] <= 0.5\\nentropy = 0.375\\nsamples = 4\\nvalue = [3, 1]'),\n",
       " Text(94.66401590457257, 165.34736842105264, 'entropy = 0.0\\nsamples = 1\\nvalue = [0, 1]'),\n",
       " Text(102.55268389662028, 165.34736842105264, 'entropy = 0.0\\nsamples = 3\\nvalue = [3, 0]'),\n",
       " Text(118.33001988071571, 184.8, 'X[39] <= 0.5\\nentropy = 0.24\\nsamples = 79\\nvalue = [11, 68]'),\n",
       " Text(110.441351888668, 165.34736842105264, 'X[37] <= 0.5\\nentropy = 0.198\\nsamples = 72\\nvalue = [8, 64]'),\n",
       " Text(106.49701789264414, 145.89473684210526, 'X[45] <= 0.5\\nentropy = 0.26\\nsamples = 52\\nvalue = [8, 44]'),\n",
       " Text(102.55268389662028, 126.44210526315791, 'X[2] <= 3.5\\nentropy = 0.237\\nsamples = 51\\nvalue = [7, 44]'),\n",
       " Text(92.69184890656064, 106.98947368421057, 'X[20] <= 0.5\\nentropy = 0.176\\nsamples = 41\\nvalue = [4, 37]'),\n",
       " Text(84.80318091451292, 87.53684210526319, 'X[29] <= 0.5\\nentropy = 0.105\\nsamples = 36\\nvalue = [2, 34]'),\n",
       " Text(80.85884691848906, 68.08421052631581, 'X[4] <= 44.0\\nentropy = 0.26\\nsamples = 13\\nvalue = [2, 11]'),\n",
       " Text(76.9145129224652, 48.63157894736844, 'X[19] <= 0.5\\nentropy = 0.153\\nsamples = 12\\nvalue = [1, 11]'),\n",
       " Text(72.97017892644135, 29.178947368421063, 'entropy = 0.0\\nsamples = 9\\nvalue = [0, 9]'),\n",
       " Text(80.85884691848906, 29.178947368421063, 'X[4] <= 32.0\\nentropy = 0.444\\nsamples = 3\\nvalue = [1, 2]'),\n",
       " Text(76.9145129224652, 9.726315789473688, 'entropy = 0.0\\nsamples = 1\\nvalue = [1, 0]'),\n",
       " Text(84.80318091451292, 9.726315789473688, 'entropy = 0.0\\nsamples = 2\\nvalue = [0, 2]'),\n",
       " Text(84.80318091451292, 48.63157894736844, 'entropy = 0.0\\nsamples = 1\\nvalue = [1, 0]'),\n",
       " Text(88.74751491053678, 68.08421052631581, 'entropy = 0.0\\nsamples = 23\\nvalue = [0, 23]'),\n",
       " Text(100.58051689860835, 87.53684210526319, 'X[4] <= 34.5\\nentropy = 0.48\\nsamples = 5\\nvalue = [2, 3]'),\n",
       " Text(96.6361829025845, 68.08421052631581, 'entropy = 0.0\\nsamples = 2\\nvalue = [2, 0]'),\n",
       " Text(104.52485089463221, 68.08421052631581, 'entropy = 0.0\\nsamples = 3\\nvalue = [0, 3]'),\n",
       " Text(112.41351888667992, 106.98947368421057, 'X[0] <= 25.5\\nentropy = 0.42\\nsamples = 10\\nvalue = [3, 7]'),\n",
       " Text(108.46918489065607, 87.53684210526319, 'entropy = 0.0\\nsamples = 5\\nvalue = [0, 5]'),\n",
       " Text(116.35785288270378, 87.53684210526319, 'X[3] <= 1.5\\nentropy = 0.48\\nsamples = 5\\nvalue = [3, 2]'),\n",
       " Text(112.41351888667992, 68.08421052631581, 'entropy = 0.0\\nsamples = 2\\nvalue = [0, 2]'),\n",
       " Text(120.30218687872764, 68.08421052631581, 'entropy = 0.0\\nsamples = 3\\nvalue = [3, 0]'),\n",
       " Text(110.441351888668, 126.44210526315791, 'entropy = 0.0\\nsamples = 1\\nvalue = [1, 0]'),\n",
       " Text(114.38568588469185, 145.89473684210526, 'entropy = 0.0\\nsamples = 20\\nvalue = [0, 20]'),\n",
       " Text(126.21868787276343, 165.34736842105264, 'X[18] <= 0.5\\nentropy = 0.49\\nsamples = 7\\nvalue = [3, 4]'),\n",
       " Text(122.27435387673957, 145.89473684210526, 'X[11] <= 0.5\\nentropy = 0.375\\nsamples = 4\\nvalue = [3, 1]'),\n",
       " Text(118.33001988071571, 126.44210526315791, 'entropy = 0.0\\nsamples = 3\\nvalue = [3, 0]'),\n",
       " Text(126.21868787276343, 126.44210526315791, 'entropy = 0.0\\nsamples = 1\\nvalue = [0, 1]'),\n",
       " Text(130.16302186878727, 145.89473684210526, 'entropy = 0.0\\nsamples = 3\\nvalue = [0, 3]'),\n",
       " Text(149.88469184890656, 243.15789473684208, 'X[51] <= 0.5\\nentropy = 0.463\\nsamples = 11\\nvalue = [7, 4]'),\n",
       " Text(145.9403578528827, 223.70526315789473, 'X[26] <= 0.5\\nentropy = 0.346\\nsamples = 9\\nvalue = [7, 2]'),\n",
       " Text(141.99602385685884, 204.25263157894736, 'X[3] <= 1.5\\nentropy = 0.219\\nsamples = 8\\nvalue = [7, 1]'),\n",
       " Text(138.05168986083498, 184.8, 'X[27] <= 0.5\\nentropy = 0.444\\nsamples = 3\\nvalue = [2, 1]'),\n",
       " Text(134.10735586481113, 165.34736842105264, 'entropy = 0.0\\nsamples = 2\\nvalue = [2, 0]'),\n",
       " Text(141.99602385685884, 165.34736842105264, 'entropy = 0.0\\nsamples = 1\\nvalue = [0, 1]'),\n",
       " Text(145.9403578528827, 184.8, 'entropy = 0.0\\nsamples = 5\\nvalue = [5, 0]'),\n",
       " Text(149.88469184890656, 204.25263157894736, 'entropy = 0.0\\nsamples = 1\\nvalue = [0, 1]'),\n",
       " Text(153.8290258449304, 223.70526315789473, 'entropy = 0.0\\nsamples = 2\\nvalue = [0, 2]'),\n",
       " Text(169.60636182902584, 262.61052631578946, 'X[21] <= 0.5\\nentropy = 0.42\\nsamples = 10\\nvalue = [7, 3]'),\n",
       " Text(165.66202783300199, 243.15789473684208, 'X[22] <= 0.5\\nentropy = 0.219\\nsamples = 8\\nvalue = [7, 1]'),\n",
       " Text(161.71769383697813, 223.70526315789473, 'entropy = 0.0\\nsamples = 7\\nvalue = [7, 0]'),\n",
       " Text(169.60636182902584, 223.70526315789473, 'entropy = 0.0\\nsamples = 1\\nvalue = [0, 1]'),\n",
       " Text(173.5506958250497, 243.15789473684208, 'entropy = 0.0\\nsamples = 2\\nvalue = [0, 2]'),\n",
       " Text(189.32803180914513, 282.06315789473683, 'X[16] <= 0.5\\nentropy = 0.32\\nsamples = 10\\nvalue = [8, 2]'),\n",
       " Text(185.38369781312127, 262.61052631578946, 'X[0] <= 39.0\\nentropy = 0.198\\nsamples = 9\\nvalue = [8, 1]'),\n",
       " Text(181.43936381709742, 243.15789473684208, 'entropy = 0.0\\nsamples = 8\\nvalue = [8, 0]'),\n",
       " Text(189.32803180914513, 243.15789473684208, 'entropy = 0.0\\nsamples = 1\\nvalue = [0, 1]'),\n",
       " Text(193.272365805169, 262.61052631578946, 'entropy = 0.0\\nsamples = 1\\nvalue = [0, 1]'),\n",
       " Text(265.07157057654075, 301.5157894736842, 'X[17] <= 0.5\\nentropy = 0.499\\nsamples = 197\\nvalue = [95, 102]'),\n",
       " Text(224.9502982107356, 282.06315789473683, 'X[46] <= 0.5\\nentropy = 0.492\\nsamples = 144\\nvalue = [81, 63]'),\n",
       " Text(217.0616302186879, 262.61052631578946, 'X[31] <= 0.5\\nentropy = 0.481\\nsamples = 134\\nvalue = [80, 54]'),\n",
       " Text(213.11729622266404, 243.15789473684208, 'X[15] <= 0.5\\nentropy = 0.471\\nsamples = 129\\nvalue = [80, 49]'),\n",
       " Text(177.49502982107356, 223.70526315789473, 'X[1] <= 7479.5\\nentropy = 0.285\\nsamples = 29\\nvalue = [24, 5]'),\n",
       " Text(173.5506958250497, 204.25263157894736, 'X[1] <= 482.5\\nentropy = 0.198\\nsamples = 27\\nvalue = [24, 3]'),\n",
       " Text(169.60636182902584, 184.8, 'entropy = 0.0\\nsamples = 1\\nvalue = [0, 1]'),\n",
       " Text(177.49502982107356, 184.8, 'X[3] <= 2.5\\nentropy = 0.142\\nsamples = 26\\nvalue = [24, 2]'),\n",
       " Text(173.5506958250497, 165.34736842105264, 'X[47] <= 0.5\\nentropy = 0.298\\nsamples = 11\\nvalue = [9, 2]'),\n",
       " Text(169.60636182902584, 145.89473684210526, 'X[13] <= 0.5\\nentropy = 0.18\\nsamples = 10\\nvalue = [9, 1]'),\n",
       " Text(165.66202783300199, 126.44210526315791, 'entropy = 0.0\\nsamples = 8\\nvalue = [8, 0]'),\n",
       " Text(173.5506958250497, 126.44210526315791, 'X[53] <= 0.5\\nentropy = 0.5\\nsamples = 2\\nvalue = [1, 1]'),\n",
       " Text(169.60636182902584, 106.98947368421057, 'entropy = 0.0\\nsamples = 1\\nvalue = [0, 1]'),\n",
       " Text(177.49502982107356, 106.98947368421057, 'entropy = 0.0\\nsamples = 1\\nvalue = [1, 0]'),\n",
       " Text(177.49502982107356, 145.89473684210526, 'entropy = 0.0\\nsamples = 1\\nvalue = [0, 1]'),\n",
       " Text(181.43936381709742, 165.34736842105264, 'entropy = 0.0\\nsamples = 15\\nvalue = [15, 0]'),\n",
       " Text(181.43936381709742, 204.25263157894736, 'entropy = 0.0\\nsamples = 2\\nvalue = [0, 2]'),\n",
       " Text(248.7395626242545, 223.70526315789473, 'X[0] <= 27.0\\nentropy = 0.493\\nsamples = 100\\nvalue = [56, 44]'),\n",
       " Text(226.3061630218688, 204.25263157894736, 'X[1] <= 1373.0\\nentropy = 0.5\\nsamples = 83\\nvalue = [42, 41]'),\n",
       " Text(205.10536779324056, 184.8, 'X[49] <= 0.5\\nentropy = 0.404\\nsamples = 32\\nvalue = [23, 9]'),\n",
       " Text(201.1610337972167, 165.34736842105264, 'X[35] <= 0.5\\nentropy = 0.476\\nsamples = 23\\nvalue = [14, 9]'),\n",
       " Text(193.272365805169, 145.89473684210526, 'X[20] <= 0.5\\nentropy = 0.375\\nsamples = 16\\nvalue = [12, 4]'),\n",
       " Text(189.32803180914513, 126.44210526315791, 'X[4] <= 58.0\\nentropy = 0.245\\nsamples = 14\\nvalue = [12, 2]'),\n",
       " Text(185.38369781312127, 106.98947368421057, 'X[8] <= 0.5\\nentropy = 0.142\\nsamples = 13\\nvalue = [12, 1]'),\n",
       " Text(181.43936381709742, 87.53684210526319, 'entropy = 0.0\\nsamples = 1\\nvalue = [0, 1]'),\n",
       " Text(189.32803180914513, 87.53684210526319, 'entropy = 0.0\\nsamples = 12\\nvalue = [12, 0]'),\n",
       " Text(193.272365805169, 106.98947368421057, 'entropy = 0.0\\nsamples = 1\\nvalue = [0, 1]'),\n",
       " Text(197.21669980119285, 126.44210526315791, 'entropy = 0.0\\nsamples = 2\\nvalue = [0, 2]'),\n",
       " Text(209.04970178926442, 145.89473684210526, 'X[0] <= 16.5\\nentropy = 0.408\\nsamples = 7\\nvalue = [2, 5]'),\n",
       " Text(205.10536779324056, 126.44210526315791, 'entropy = 0.0\\nsamples = 5\\nvalue = [0, 5]'),\n",
       " Text(212.99403578528828, 126.44210526315791, 'entropy = 0.0\\nsamples = 2\\nvalue = [2, 0]'),\n",
       " Text(209.04970178926442, 165.34736842105264, 'entropy = 0.0\\nsamples = 9\\nvalue = [9, 0]'),\n",
       " Text(247.50695825049704, 184.8, 'X[1] <= 7222.0\\nentropy = 0.468\\nsamples = 51\\nvalue = [19, 32]'),\n",
       " Text(243.56262425447318, 165.34736842105264, 'X[5] <= 1.5\\nentropy = 0.444\\nsamples = 48\\nvalue = [16, 32]'),\n",
       " Text(239.61829025844932, 145.89473684210526, 'X[0] <= 14.5\\nentropy = 0.423\\nsamples = 46\\nvalue = [14, 32]'),\n",
       " Text(220.882703777336, 126.44210526315791, 'X[34] <= 0.5\\nentropy = 0.231\\nsamples = 15\\nvalue = [2, 13]'),\n",
       " Text(216.93836978131213, 106.98947368421057, 'entropy = 0.0\\nsamples = 12\\nvalue = [0, 12]'),\n",
       " Text(224.82703777335985, 106.98947368421057, 'X[18] <= 0.5\\nentropy = 0.444\\nsamples = 3\\nvalue = [2, 1]'),\n",
       " Text(220.882703777336, 87.53684210526319, 'entropy = 0.0\\nsamples = 1\\nvalue = [0, 1]'),\n",
       " Text(228.7713717693837, 87.53684210526319, 'entropy = 0.0\\nsamples = 2\\nvalue = [2, 0]'),\n",
       " Text(258.3538767395626, 126.44210526315791, 'X[3] <= 3.5\\nentropy = 0.475\\nsamples = 31\\nvalue = [12, 19]'),\n",
       " Text(244.54870775347914, 106.98947368421057, 'X[48] <= 0.5\\nentropy = 0.5\\nsamples = 20\\nvalue = [10, 10]'),\n",
       " Text(236.66003976143142, 87.53684210526319, 'X[44] <= 0.5\\nentropy = 0.459\\nsamples = 14\\nvalue = [5, 9]'),\n",
       " Text(232.71570576540756, 68.08421052631581, 'entropy = 0.0\\nsamples = 2\\nvalue = [2, 0]'),\n",
       " Text(240.60437375745528, 68.08421052631581, 'X[21] <= 0.5\\nentropy = 0.375\\nsamples = 12\\nvalue = [3, 9]'),\n",
       " Text(232.71570576540756, 48.63157894736844, 'X[1] <= 2560.5\\nentropy = 0.198\\nsamples = 9\\nvalue = [1, 8]'),\n",
       " Text(228.7713717693837, 29.178947368421063, 'X[20] <= 0.5\\nentropy = 0.444\\nsamples = 3\\nvalue = [1, 2]'),\n",
       " Text(224.82703777335985, 9.726315789473688, 'entropy = 0.0\\nsamples = 2\\nvalue = [0, 2]'),\n",
       " Text(232.71570576540756, 9.726315789473688, 'entropy = 0.0\\nsamples = 1\\nvalue = [1, 0]'),\n",
       " Text(236.66003976143142, 29.178947368421063, 'entropy = 0.0\\nsamples = 6\\nvalue = [0, 6]'),\n",
       " Text(248.493041749503, 48.63157894736844, 'X[3] <= 1.5\\nentropy = 0.444\\nsamples = 3\\nvalue = [2, 1]'),\n",
       " Text(244.54870775347914, 29.178947368421063, 'entropy = 0.0\\nsamples = 1\\nvalue = [0, 1]'),\n",
       " Text(252.43737574552685, 29.178947368421063, 'entropy = 0.0\\nsamples = 2\\nvalue = [2, 0]'),\n",
       " Text(252.43737574552685, 87.53684210526319, 'X[58] <= 0.5\\nentropy = 0.278\\nsamples = 6\\nvalue = [5, 1]'),\n",
       " Text(248.493041749503, 68.08421052631581, 'entropy = 0.0\\nsamples = 5\\nvalue = [5, 0]'),\n",
       " Text(256.3817097415507, 68.08421052631581, 'entropy = 0.0\\nsamples = 1\\nvalue = [0, 1]'),\n",
       " Text(272.15904572564614, 106.98947368421057, 'X[4] <= 24.5\\nentropy = 0.298\\nsamples = 11\\nvalue = [2, 9]'),\n",
       " Text(268.21471172962225, 87.53684210526319, 'X[0] <= 19.5\\nentropy = 0.444\\nsamples = 3\\nvalue = [2, 1]'),\n",
       " Text(264.2703777335984, 68.08421052631581, 'entropy = 0.0\\nsamples = 1\\nvalue = [0, 1]'),\n",
       " Text(272.15904572564614, 68.08421052631581, 'entropy = 0.0\\nsamples = 2\\nvalue = [2, 0]'),\n",
       " Text(276.10337972166997, 87.53684210526319, 'entropy = 0.0\\nsamples = 8\\nvalue = [0, 8]'),\n",
       " Text(247.50695825049704, 145.89473684210526, 'entropy = 0.0\\nsamples = 2\\nvalue = [2, 0]'),\n",
       " Text(251.4512922465209, 165.34736842105264, 'entropy = 0.0\\nsamples = 3\\nvalue = [3, 0]'),\n",
       " Text(271.17296222664015, 204.25263157894736, 'X[4] <= 42.5\\nentropy = 0.291\\nsamples = 17\\nvalue = [14, 3]'),\n",
       " Text(263.28429423459244, 184.8, 'X[56] <= 0.5\\nentropy = 0.133\\nsamples = 14\\nvalue = [13, 1]'),\n",
       " Text(259.3399602385686, 165.34736842105264, 'entropy = 0.0\\nsamples = 13\\nvalue = [13, 0]'),\n",
       " Text(267.2286282306163, 165.34736842105264, 'entropy = 0.0\\nsamples = 1\\nvalue = [0, 1]'),\n",
       " Text(279.06163021868787, 184.8, 'X[56] <= 0.5\\nentropy = 0.444\\nsamples = 3\\nvalue = [1, 2]'),\n",
       " Text(275.11729622266404, 165.34736842105264, 'entropy = 0.0\\nsamples = 2\\nvalue = [0, 2]'),\n",
       " Text(283.00596421471175, 165.34736842105264, 'entropy = 0.0\\nsamples = 1\\nvalue = [1, 0]'),\n",
       " Text(221.00596421471175, 243.15789473684208, 'entropy = 0.0\\nsamples = 5\\nvalue = [0, 5]'),\n",
       " Text(232.8389662027833, 262.61052631578946, 'X[1] <= 1650.5\\nentropy = 0.18\\nsamples = 10\\nvalue = [1, 9]'),\n",
       " Text(228.89463220675944, 243.15789473684208, 'entropy = 0.0\\nsamples = 1\\nvalue = [1, 0]'),\n",
       " Text(236.78330019880715, 243.15789473684208, 'entropy = 0.0\\nsamples = 9\\nvalue = [0, 9]'),\n",
       " Text(305.1928429423459, 282.06315789473683, 'X[4] <= 23.5\\nentropy = 0.389\\nsamples = 53\\nvalue = [14, 39]'),\n",
       " Text(301.2485089463221, 262.61052631578946, 'entropy = 0.0\\nsamples = 2\\nvalue = [2, 0]'),\n",
       " Text(309.1371769383698, 262.61052631578946, 'X[0] <= 11.5\\nentropy = 0.36\\nsamples = 51\\nvalue = [12, 39]'),\n",
       " Text(296.81113320079527, 243.15789473684208, 'X[39] <= 0.5\\nentropy = 0.117\\nsamples = 16\\nvalue = [1, 15]'),\n",
       " Text(292.8667992047714, 223.70526315789473, 'entropy = 0.0\\nsamples = 15\\nvalue = [0, 15]'),\n",
       " Text(300.7554671968191, 223.70526315789473, 'entropy = 0.0\\nsamples = 1\\nvalue = [1, 0]'),\n",
       " Text(321.46322067594434, 243.15789473684208, 'X[18] <= 0.5\\nentropy = 0.431\\nsamples = 35\\nvalue = [11, 24]'),\n",
       " Text(308.6441351888668, 223.70526315789473, 'X[24] <= 0.5\\nentropy = 0.32\\nsamples = 25\\nvalue = [5, 20]'),\n",
       " Text(304.699801192843, 204.25263157894736, 'X[4] <= 24.5\\nentropy = 0.278\\nsamples = 24\\nvalue = [4, 20]'),\n",
       " Text(294.8389662027833, 184.8, 'X[2] <= 2.5\\nentropy = 0.5\\nsamples = 4\\nvalue = [2, 2]'),\n",
       " Text(290.89463220675947, 165.34736842105264, 'entropy = 0.0\\nsamples = 2\\nvalue = [0, 2]'),\n",
       " Text(298.7833001988072, 165.34736842105264, 'entropy = 0.0\\nsamples = 2\\nvalue = [2, 0]'),\n",
       " Text(314.5606361829026, 184.8, 'X[23] <= 0.5\\nentropy = 0.18\\nsamples = 20\\nvalue = [2, 18]'),\n",
       " Text(306.6719681908549, 165.34736842105264, 'X[0] <= 12.5\\nentropy = 0.105\\nsamples = 18\\nvalue = [1, 17]'),\n",
       " Text(302.727634194831, 145.89473684210526, 'X[20] <= 0.5\\nentropy = 0.375\\nsamples = 4\\nvalue = [1, 3]'),\n",
       " Text(298.7833001988072, 126.44210526315791, 'entropy = 0.0\\nsamples = 3\\nvalue = [0, 3]'),\n",
       " Text(306.6719681908549, 126.44210526315791, 'entropy = 0.0\\nsamples = 1\\nvalue = [1, 0]'),\n",
       " Text(310.6163021868787, 145.89473684210526, 'entropy = 0.0\\nsamples = 14\\nvalue = [0, 14]'),\n",
       " Text(322.4493041749503, 165.34736842105264, 'X[0] <= 30.0\\nentropy = 0.5\\nsamples = 2\\nvalue = [1, 1]'),\n",
       " Text(318.50497017892644, 145.89473684210526, 'entropy = 0.0\\nsamples = 1\\nvalue = [1, 0]'),\n",
       " Text(326.39363817097416, 145.89473684210526, 'entropy = 0.0\\nsamples = 1\\nvalue = [0, 1]'),\n",
       " Text(312.5884691848907, 204.25263157894736, 'entropy = 0.0\\nsamples = 1\\nvalue = [1, 0]'),\n",
       " Text(334.2823061630219, 223.70526315789473, 'X[44] <= 0.5\\nentropy = 0.48\\nsamples = 10\\nvalue = [6, 4]'),\n",
       " Text(330.33797216699804, 204.25263157894736, 'entropy = 0.0\\nsamples = 4\\nvalue = [4, 0]'),\n",
       " Text(338.22664015904576, 204.25263157894736, 'X[1] <= 1400.5\\nentropy = 0.444\\nsamples = 6\\nvalue = [2, 4]'),\n",
       " Text(334.2823061630219, 184.8, 'X[4] <= 62.5\\nentropy = 0.444\\nsamples = 3\\nvalue = [2, 1]'),\n",
       " Text(330.33797216699804, 165.34736842105264, 'entropy = 0.0\\nsamples = 2\\nvalue = [2, 0]'),\n",
       " Text(338.22664015904576, 165.34736842105264, 'entropy = 0.0\\nsamples = 1\\nvalue = [0, 1]'),\n",
       " Text(342.1709741550696, 184.8, 'entropy = 0.0\\nsamples = 3\\nvalue = [0, 3]'),\n",
       " Text(342.1709741550696, 320.9684210526316, 'X[33] <= 0.5\\nentropy = 0.334\\nsamples = 33\\nvalue = [26, 7]'),\n",
       " Text(338.22664015904576, 301.5157894736842, 'X[3] <= 1.5\\nentropy = 0.231\\nsamples = 30\\nvalue = [26, 4]'),\n",
       " Text(330.33797216699804, 282.06315789473683, 'X[21] <= 0.5\\nentropy = 0.444\\nsamples = 3\\nvalue = [1, 2]'),\n",
       " Text(326.39363817097416, 262.61052631578946, 'entropy = 0.0\\nsamples = 2\\nvalue = [0, 2]'),\n",
       " Text(334.2823061630219, 262.61052631578946, 'entropy = 0.0\\nsamples = 1\\nvalue = [1, 0]'),\n",
       " Text(346.1153081510935, 282.06315789473683, 'X[38] <= 0.5\\nentropy = 0.137\\nsamples = 27\\nvalue = [25, 2]'),\n",
       " Text(342.1709741550696, 262.61052631578946, 'X[6] <= 1.5\\nentropy = 0.074\\nsamples = 26\\nvalue = [25, 1]'),\n",
       " Text(338.22664015904576, 243.15789473684208, 'entropy = 0.0\\nsamples = 23\\nvalue = [23, 0]'),\n",
       " Text(346.1153081510935, 243.15789473684208, 'X[55] <= 0.5\\nentropy = 0.444\\nsamples = 3\\nvalue = [2, 1]'),\n",
       " Text(342.1709741550696, 223.70526315789473, 'entropy = 0.0\\nsamples = 2\\nvalue = [2, 0]'),\n",
       " Text(350.0596421471173, 223.70526315789473, 'entropy = 0.0\\nsamples = 1\\nvalue = [0, 1]'),\n",
       " Text(350.0596421471173, 262.61052631578946, 'entropy = 0.0\\nsamples = 1\\nvalue = [0, 1]'),\n",
       " Text(346.1153081510935, 301.5157894736842, 'entropy = 0.0\\nsamples = 3\\nvalue = [0, 3]'),\n",
       " Text(463.76739562624255, 340.4210526315789, 'X[51] <= 0.5\\nentropy = 0.221\\nsamples = 292\\nvalue = [37, 255]'),\n",
       " Text(439.4234592445328, 320.9684210526316, 'X[17] <= 0.5\\nentropy = 0.173\\nsamples = 261\\nvalue = [25, 236]'),\n",
       " Text(410.45725646123265, 301.5157894736842, 'X[5] <= 1.5\\nentropy = 0.246\\nsamples = 160\\nvalue = [23, 137]'),\n",
       " Text(389.99602385685887, 282.06315789473683, 'X[24] <= 0.5\\nentropy = 0.167\\nsamples = 120\\nvalue = [11, 109]'),\n",
       " Text(378.65606361829026, 262.61052631578946, 'X[4] <= 29.5\\nentropy = 0.143\\nsamples = 116\\nvalue = [9, 107]'),\n",
       " Text(367.80914512922465, 243.15789473684208, 'X[18] <= 0.5\\nentropy = 0.287\\nsamples = 46\\nvalue = [8, 38]'),\n",
       " Text(357.948310139165, 223.70526315789473, 'X[2] <= 3.5\\nentropy = 0.219\\nsamples = 40\\nvalue = [5, 35]'),\n",
       " Text(354.0039761431412, 204.25263157894736, 'entropy = 0.0\\nsamples = 22\\nvalue = [0, 22]'),\n",
       " Text(361.8926441351889, 204.25263157894736, 'X[0] <= 21.0\\nentropy = 0.401\\nsamples = 18\\nvalue = [5, 13]'),\n",
       " Text(354.0039761431412, 184.8, 'X[1] <= 1004.5\\nentropy = 0.5\\nsamples = 8\\nvalue = [4, 4]'),\n",
       " Text(350.0596421471173, 165.34736842105264, 'entropy = 0.0\\nsamples = 3\\nvalue = [0, 3]'),\n",
       " Text(357.948310139165, 165.34736842105264, 'X[30] <= 0.5\\nentropy = 0.32\\nsamples = 5\\nvalue = [4, 1]'),\n",
       " Text(354.0039761431412, 145.89473684210526, 'entropy = 0.0\\nsamples = 4\\nvalue = [4, 0]'),\n",
       " Text(361.8926441351889, 145.89473684210526, 'entropy = 0.0\\nsamples = 1\\nvalue = [0, 1]'),\n",
       " Text(369.7813121272366, 184.8, 'X[20] <= 0.5\\nentropy = 0.18\\nsamples = 10\\nvalue = [1, 9]'),\n",
       " Text(365.83697813121273, 165.34736842105264, 'entropy = 0.0\\nsamples = 9\\nvalue = [0, 9]'),\n",
       " Text(373.72564612326045, 165.34736842105264, 'entropy = 0.0\\nsamples = 1\\nvalue = [1, 0]'),\n",
       " Text(377.66998011928433, 223.70526315789473, 'X[35] <= 0.5\\nentropy = 0.5\\nsamples = 6\\nvalue = [3, 3]'),\n",
       " Text(373.72564612326045, 204.25263157894736, 'entropy = 0.0\\nsamples = 2\\nvalue = [0, 2]'),\n",
       " Text(381.61431411530816, 204.25263157894736, 'X[1] <= 3063.0\\nentropy = 0.375\\nsamples = 4\\nvalue = [3, 1]'),\n",
       " Text(377.66998011928433, 184.8, 'entropy = 0.0\\nsamples = 3\\nvalue = [3, 0]'),\n",
       " Text(385.55864811133205, 184.8, 'entropy = 0.0\\nsamples = 1\\nvalue = [0, 1]'),\n",
       " Text(389.5029821073559, 243.15789473684208, 'X[45] <= 0.5\\nentropy = 0.028\\nsamples = 70\\nvalue = [1, 69]'),\n",
       " Text(385.55864811133205, 223.70526315789473, 'entropy = 0.0\\nsamples = 66\\nvalue = [0, 66]'),\n",
       " Text(393.44731610337976, 223.70526315789473, 'X[34] <= 0.5\\nentropy = 0.375\\nsamples = 4\\nvalue = [1, 3]'),\n",
       " Text(389.5029821073559, 204.25263157894736, 'entropy = 0.0\\nsamples = 3\\nvalue = [0, 3]'),\n",
       " Text(397.3916500994036, 204.25263157894736, 'entropy = 0.0\\nsamples = 1\\nvalue = [1, 0]'),\n",
       " Text(401.3359840954275, 262.61052631578946, 'X[35] <= 0.5\\nentropy = 0.5\\nsamples = 4\\nvalue = [2, 2]'),\n",
       " Text(397.3916500994036, 243.15789473684208, 'entropy = 0.0\\nsamples = 2\\nvalue = [0, 2]'),\n",
       " Text(405.2803180914513, 243.15789473684208, 'entropy = 0.0\\nsamples = 2\\nvalue = [2, 0]'),\n",
       " Text(430.91848906560637, 282.06315789473683, 'X[1] <= 3607.5\\nentropy = 0.42\\nsamples = 40\\nvalue = [12, 28]'),\n",
       " Text(417.1133200795229, 262.61052631578946, 'X[32] <= 0.5\\nentropy = 0.236\\nsamples = 22\\nvalue = [3, 19]'),\n",
       " Text(413.168986083499, 243.15789473684208, 'X[4] <= 22.0\\nentropy = 0.172\\nsamples = 21\\nvalue = [2, 19]'),\n",
       " Text(409.2246520874752, 223.70526315789473, 'entropy = 0.0\\nsamples = 1\\nvalue = [1, 0]'),\n",
       " Text(417.1133200795229, 223.70526315789473, 'X[6] <= 1.5\\nentropy = 0.095\\nsamples = 20\\nvalue = [1, 19]'),\n",
       " Text(413.168986083499, 204.25263157894736, 'entropy = 0.0\\nsamples = 16\\nvalue = [0, 16]'),\n",
       " Text(421.05765407554674, 204.25263157894736, 'X[4] <= 45.5\\nentropy = 0.375\\nsamples = 4\\nvalue = [1, 3]'),\n",
       " Text(417.1133200795229, 184.8, 'entropy = 0.0\\nsamples = 3\\nvalue = [0, 3]'),\n",
       " Text(425.0019880715706, 184.8, 'entropy = 0.0\\nsamples = 1\\nvalue = [1, 0]'),\n",
       " Text(421.05765407554674, 243.15789473684208, 'entropy = 0.0\\nsamples = 1\\nvalue = [1, 0]'),\n",
       " Text(444.7236580516899, 262.61052631578946, 'X[36] <= 0.5\\nentropy = 0.5\\nsamples = 18\\nvalue = [9, 9]'),\n",
       " Text(440.77932405566605, 243.15789473684208, 'X[49] <= 0.5\\nentropy = 0.459\\nsamples = 14\\nvalue = [9, 5]'),\n",
       " Text(432.89065606361834, 223.70526315789473, 'X[32] <= 0.5\\nentropy = 0.375\\nsamples = 4\\nvalue = [1, 3]'),\n",
       " Text(428.94632206759445, 204.25263157894736, 'entropy = 0.0\\nsamples = 3\\nvalue = [0, 3]'),\n",
       " Text(436.83499005964217, 204.25263157894736, 'entropy = 0.0\\nsamples = 1\\nvalue = [1, 0]'),\n",
       " Text(448.6679920477137, 223.70526315789473, 'X[32] <= 0.5\\nentropy = 0.32\\nsamples = 10\\nvalue = [8, 2]'),\n",
       " Text(444.7236580516899, 204.25263157894736, 'X[6] <= 1.5\\nentropy = 0.198\\nsamples = 9\\nvalue = [8, 1]'),\n",
       " Text(440.77932405566605, 184.8, 'entropy = 0.0\\nsamples = 7\\nvalue = [7, 0]'),\n",
       " Text(448.6679920477137, 184.8, 'X[13] <= 0.5\\nentropy = 0.5\\nsamples = 2\\nvalue = [1, 1]'),\n",
       " Text(444.7236580516899, 165.34736842105264, 'entropy = 0.0\\nsamples = 1\\nvalue = [0, 1]'),\n",
       " Text(452.6123260437376, 165.34736842105264, 'entropy = 0.0\\nsamples = 1\\nvalue = [1, 0]'),\n",
       " Text(452.6123260437376, 204.25263157894736, 'entropy = 0.0\\nsamples = 1\\nvalue = [0, 1]'),\n",
       " Text(448.6679920477137, 243.15789473684208, 'entropy = 0.0\\nsamples = 4\\nvalue = [0, 4]'),\n",
       " Text(468.389662027833, 301.5157894736842, 'X[1] <= 11867.0\\nentropy = 0.039\\nsamples = 101\\nvalue = [2, 99]'),\n",
       " Text(464.44532803180914, 282.06315789473683, 'X[4] <= 23.5\\nentropy = 0.02\\nsamples = 100\\nvalue = [1, 99]'),\n",
       " Text(460.5009940357853, 262.61052631578946, 'X[1] <= 5247.5\\nentropy = 0.375\\nsamples = 4\\nvalue = [1, 3]'),\n",
       " Text(456.5566600397614, 243.15789473684208, 'entropy = 0.0\\nsamples = 3\\nvalue = [0, 3]'),\n",
       " Text(464.44532803180914, 243.15789473684208, 'entropy = 0.0\\nsamples = 1\\nvalue = [1, 0]'),\n",
       " Text(468.389662027833, 262.61052631578946, 'entropy = 0.0\\nsamples = 96\\nvalue = [0, 96]'),\n",
       " Text(472.33399602385686, 282.06315789473683, 'entropy = 0.0\\nsamples = 1\\nvalue = [1, 0]'),\n",
       " Text(488.1113320079523, 320.9684210526316, 'X[4] <= 44.5\\nentropy = 0.475\\nsamples = 31\\nvalue = [12, 19]'),\n",
       " Text(484.16699801192846, 301.5157894736842, 'X[37] <= 0.5\\nentropy = 0.5\\nsamples = 24\\nvalue = [12, 12]'),\n",
       " Text(480.22266401590457, 282.06315789473683, 'X[0] <= 16.5\\nentropy = 0.48\\nsamples = 20\\nvalue = [8, 12]'),\n",
       " Text(476.27833001988074, 262.61052631578946, 'entropy = 0.0\\nsamples = 7\\nvalue = [0, 7]'),\n",
       " Text(484.16699801192846, 262.61052631578946, 'X[44] <= 0.5\\nentropy = 0.473\\nsamples = 13\\nvalue = [8, 5]'),\n",
       " Text(480.22266401590457, 243.15789473684208, 'entropy = 0.0\\nsamples = 2\\nvalue = [0, 2]'),\n",
       " Text(488.1113320079523, 243.15789473684208, 'X[5] <= 1.5\\nentropy = 0.397\\nsamples = 11\\nvalue = [8, 3]'),\n",
       " Text(484.16699801192846, 223.70526315789473, 'X[4] <= 32.5\\nentropy = 0.5\\nsamples = 6\\nvalue = [3, 3]'),\n",
       " Text(480.22266401590457, 204.25263157894736, 'entropy = 0.0\\nsamples = 3\\nvalue = [0, 3]'),\n",
       " Text(488.1113320079523, 204.25263157894736, 'entropy = 0.0\\nsamples = 3\\nvalue = [3, 0]'),\n",
       " Text(492.05566600397617, 223.70526315789473, 'entropy = 0.0\\nsamples = 5\\nvalue = [5, 0]'),\n",
       " Text(488.1113320079523, 282.06315789473683, 'entropy = 0.0\\nsamples = 4\\nvalue = [4, 0]'),\n",
       " Text(492.05566600397617, 301.5157894736842, 'entropy = 0.0\\nsamples = 7\\nvalue = [0, 7]')]"
      ]
     },
     "execution_count": 7,
     "metadata": {},
     "output_type": "execute_result"
    }
   ],
   "source": [
    "tree.plot_tree(clf.fit(Xlr, Ylr))"
   ]
  },
  {
   "cell_type": "code",
   "execution_count": 8,
   "metadata": {},
   "outputs": [
    {
     "data": {
      "text/plain": [
       "array([ 1.,  2.,  3.,  4.,  5.,  6.,  7.,  8.,  9., 10.])"
      ]
     },
     "execution_count": 8,
     "metadata": {},
     "output_type": "execute_result"
    }
   ],
   "source": [
    "np.linspace(1,10,10, endpoint=True)"
   ]
  },
  {
   "cell_type": "code",
   "execution_count": 13,
   "metadata": {},
   "outputs": [
    {
     "name": "stdout",
     "output_type": "stream",
     "text": [
      "0.736\n"
     ]
    }
   ],
   "source": [
    "clf_best=DecisionTreeClassifier(max_depth=3, min_samples_split=0.1, min_samples_leaf=0.1, max_features=14, random_state=1)\n",
    "clf_best = clf_best.fit(Xlr, Ylr)\n",
    "print(accuracy_score(clf_best.predict(Xtestlr),Ytestlr))"
   ]
  },
  {
   "cell_type": "code",
   "execution_count": 10,
   "metadata": {
    "scrolled": true
   },
   "outputs": [
    {
     "data": {
      "text/plain": [
       "(DecisionTreeClassifier(class_weight=None, criterion='gini', max_depth=3.0,\n",
       "                        max_features=14, max_leaf_nodes=None,\n",
       "                        min_impurity_decrease=0.0, min_impurity_split=None,\n",
       "                        min_samples_leaf=0.1, min_samples_split=0.1,\n",
       "                        min_weight_fraction_leaf=0.0, presort=False,\n",
       "                        random_state=1, splitter='best'),\n",
       " {'max_depth': 3.0,\n",
       "  'max_features': 14,\n",
       "  'min_samples_leaf': 0.1,\n",
       "  'min_samples_split': 0.1},\n",
       " 0.724)"
      ]
     },
     "execution_count": 10,
     "metadata": {},
     "output_type": "execute_result"
    }
   ],
   "source": [
    "clf32=DecisionTreeClassifier(random_state=1)\n",
    "parameters = {\"max_depth\": np.linspace(1,32,32,endpoint=True), \"min_samples_split\": np.linspace(0.1,1.0, 10, endpoint=True), \"min_samples_leaf\": np.linspace(0.1,0.5,5,endpoint=True), \"max_features\": list(range(1,Xlr.shape[1]))}\n",
    "fitmodel = GridSearchCV(clf32, param_grid=parameters, cv=5)\n",
    "fitmodel.fit(Xlr, Ylr)\n",
    "fitmodel.best_estimator_, fitmodel.best_params_, fitmodel.best_score_"
   ]
  },
  {
   "cell_type": "code",
   "execution_count": 14,
   "metadata": {},
   "outputs": [
    {
     "ename": "NameError",
     "evalue": "name 'clf32' is not defined",
     "output_type": "error",
     "traceback": [
      "\u001b[1;31m---------------------------------------------------------------------------\u001b[0m",
      "\u001b[1;31mNameError\u001b[0m                                 Traceback (most recent call last)",
      "\u001b[1;32m<ipython-input-14-41b49b688797>\u001b[0m in \u001b[0;36m<module>\u001b[1;34m\u001b[0m\n\u001b[1;32m----> 1\u001b[1;33m \u001b[0mclf32\u001b[0m \u001b[1;33m=\u001b[0m \u001b[0mclf32\u001b[0m\u001b[1;33m.\u001b[0m\u001b[0mfit\u001b[0m\u001b[1;33m(\u001b[0m\u001b[0mXlr\u001b[0m\u001b[1;33m,\u001b[0m \u001b[0mYlr\u001b[0m\u001b[1;33m)\u001b[0m\u001b[1;33m\u001b[0m\u001b[1;33m\u001b[0m\u001b[0m\n\u001b[0m\u001b[0;32m      2\u001b[0m \u001b[0mprint\u001b[0m\u001b[1;33m(\u001b[0m\u001b[0maccuracy_score\u001b[0m\u001b[1;33m(\u001b[0m\u001b[0mclf32\u001b[0m\u001b[1;33m.\u001b[0m\u001b[0mpredict\u001b[0m\u001b[1;33m(\u001b[0m\u001b[0mXtestlr\u001b[0m\u001b[1;33m)\u001b[0m\u001b[1;33m,\u001b[0m\u001b[0mYtestlr\u001b[0m\u001b[1;33m)\u001b[0m\u001b[1;33m)\u001b[0m\u001b[1;33m\u001b[0m\u001b[1;33m\u001b[0m\u001b[0m\n",
      "\u001b[1;31mNameError\u001b[0m: name 'clf32' is not defined"
     ]
    }
   ],
   "source": [
    "clf32 = clf32.fit(Xlr, Ylr)\n",
    "print(accuracy_score(clf32.predict(Xtestlr),Ytestlr))"
   ]
  },
  {
   "cell_type": "code",
   "execution_count": 12,
   "metadata": {},
   "outputs": [
    {
     "data": {
      "text/plain": [
       "[Text(371.3836978131213, 359.8736842105263, 'X[12] <= 0.5\\nentropy = 0.421\\nsamples = 750\\nvalue = [226, 524]'),\n",
       " Text(279.0, 340.4210526315789, 'X[0] <= 43.5\\nentropy = 0.485\\nsamples = 458\\nvalue = [189, 269]'),\n",
       " Text(215.8290258449304, 320.9684210526316, 'X[9] <= 0.5\\nentropy = 0.473\\nsamples = 425\\nvalue = [163, 262]'),\n",
       " Text(166.58648111332008, 301.5157894736842, 'X[1] <= 8142.0\\nentropy = 0.419\\nsamples = 228\\nvalue = [68, 160]'),\n",
       " Text(143.84493041749505, 282.06315789473683, 'X[14] <= 0.5\\nentropy = 0.399\\nsamples = 218\\nvalue = [60, 158]'),\n",
       " Text(118.08349900596421, 262.61052631578946, 'X[13] <= 0.5\\nentropy = 0.38\\nsamples = 208\\nvalue = [53, 155]'),\n",
       " Text(86.28230616302187, 243.15789473684208, 'X[0] <= 8.5\\nentropy = 0.358\\nsamples = 197\\nvalue = [46, 151]'),\n",
       " Text(82.33797216699801, 223.70526315789473, 'entropy = 0.0\\nsamples = 22\\nvalue = [0, 22]'),\n",
       " Text(90.22664015904573, 223.70526315789473, 'X[1] <= 2082.5\\nentropy = 0.388\\nsamples = 175\\nvalue = [46, 129]'),\n",
       " Text(71.98409542743539, 204.25263157894736, 'X[6] <= 1.5\\nentropy = 0.454\\nsamples = 92\\nvalue = [32, 60]'),\n",
       " Text(61.137176938369784, 184.8, 'X[52] <= 0.5\\nentropy = 0.421\\nsamples = 83\\nvalue = [25, 58]'),\n",
       " Text(57.192842942345926, 165.34736842105264, 'X[1] <= 1906.5\\nentropy = 0.39\\nsamples = 79\\nvalue = [21, 58]'),\n",
       " Text(39.44333996023857, 145.89473684210526, 'X[49] <= 0.5\\nentropy = 0.334\\nsamples = 66\\nvalue = [14, 52]'),\n",
       " Text(23.66600397614314, 126.44210526315791, 'X[3] <= 3.5\\nentropy = 0.227\\nsamples = 46\\nvalue = [6, 40]'),\n",
       " Text(19.721669980119284, 106.98947368421057, 'X[1] <= 1259.0\\nentropy = 0.365\\nsamples = 25\\nvalue = [6, 19]'),\n",
       " Text(7.888667992047714, 87.53684210526319, 'X[44] <= 0.5\\nentropy = 0.486\\nsamples = 12\\nvalue = [5, 7]'),\n",
       " Text(3.944333996023857, 68.08421052631581, 'entropy = 0.0\\nsamples = 4\\nvalue = [0, 4]'),\n",
       " Text(11.83300198807157, 68.08421052631581, 'X[4] <= 26.0\\nentropy = 0.469\\nsamples = 8\\nvalue = [5, 3]'),\n",
       " Text(7.888667992047714, 48.63157894736844, 'entropy = 0.0\\nsamples = 2\\nvalue = [0, 2]'),\n",
       " Text(15.777335984095428, 48.63157894736844, 'X[3] <= 2.5\\nentropy = 0.278\\nsamples = 6\\nvalue = [5, 1]'),\n",
       " Text(11.83300198807157, 29.178947368421063, 'entropy = 0.0\\nsamples = 4\\nvalue = [4, 0]'),\n",
       " Text(19.721669980119284, 29.178947368421063, 'X[0] <= 10.5\\nentropy = 0.5\\nsamples = 2\\nvalue = [1, 1]'),\n",
       " Text(15.777335984095428, 9.726315789473688, 'entropy = 0.0\\nsamples = 1\\nvalue = [0, 1]'),\n",
       " Text(23.66600397614314, 9.726315789473688, 'entropy = 0.0\\nsamples = 1\\nvalue = [1, 0]'),\n",
       " Text(31.554671968190856, 87.53684210526319, 'X[2] <= 2.0\\nentropy = 0.142\\nsamples = 13\\nvalue = [1, 12]'),\n",
       " Text(27.610337972167, 68.08421052631581, 'X[29] <= 0.5\\nentropy = 0.5\\nsamples = 2\\nvalue = [1, 1]'),\n",
       " Text(23.66600397614314, 48.63157894736844, 'entropy = 0.0\\nsamples = 1\\nvalue = [0, 1]'),\n",
       " Text(31.554671968190856, 48.63157894736844, 'entropy = 0.0\\nsamples = 1\\nvalue = [1, 0]'),\n",
       " Text(35.49900596421471, 68.08421052631581, 'entropy = 0.0\\nsamples = 11\\nvalue = [0, 11]'),\n",
       " Text(27.610337972167, 106.98947368421057, 'entropy = 0.0\\nsamples = 21\\nvalue = [0, 21]'),\n",
       " Text(55.220675944334, 126.44210526315791, 'X[34] <= 0.5\\nentropy = 0.48\\nsamples = 20\\nvalue = [8, 12]'),\n",
       " Text(51.27634194831014, 106.98947368421057, 'X[42] <= 0.5\\nentropy = 0.375\\nsamples = 16\\nvalue = [4, 12]'),\n",
       " Text(47.33200795228628, 87.53684210526319, 'X[1] <= 860.5\\nentropy = 0.245\\nsamples = 14\\nvalue = [2, 12]'),\n",
       " Text(43.387673956262425, 68.08421052631581, 'entropy = 0.0\\nsamples = 1\\nvalue = [1, 0]'),\n",
       " Text(51.27634194831014, 68.08421052631581, 'X[0] <= 9.5\\nentropy = 0.142\\nsamples = 13\\nvalue = [1, 12]'),\n",
       " Text(47.33200795228628, 48.63157894736844, 'X[3] <= 3.5\\nentropy = 0.5\\nsamples = 2\\nvalue = [1, 1]'),\n",
       " Text(43.387673956262425, 29.178947368421063, 'entropy = 0.0\\nsamples = 1\\nvalue = [1, 0]'),\n",
       " Text(51.27634194831014, 29.178947368421063, 'entropy = 0.0\\nsamples = 1\\nvalue = [0, 1]'),\n",
       " Text(55.220675944334, 48.63157894736844, 'entropy = 0.0\\nsamples = 11\\nvalue = [0, 11]'),\n",
       " Text(55.220675944334, 87.53684210526319, 'entropy = 0.0\\nsamples = 2\\nvalue = [2, 0]'),\n",
       " Text(59.165009940357855, 106.98947368421057, 'entropy = 0.0\\nsamples = 4\\nvalue = [4, 0]'),\n",
       " Text(74.94234592445328, 145.89473684210526, 'X[49] <= 0.5\\nentropy = 0.497\\nsamples = 13\\nvalue = [7, 6]'),\n",
       " Text(70.99801192842942, 126.44210526315791, 'X[4] <= 26.5\\nentropy = 0.219\\nsamples = 8\\nvalue = [7, 1]'),\n",
       " Text(67.05367793240556, 106.98947368421057, 'X[41] <= 0.5\\nentropy = 0.5\\nsamples = 2\\nvalue = [1, 1]'),\n",
       " Text(63.10934393638171, 87.53684210526319, 'entropy = 0.0\\nsamples = 1\\nvalue = [1, 0]'),\n",
       " Text(70.99801192842942, 87.53684210526319, 'entropy = 0.0\\nsamples = 1\\nvalue = [0, 1]'),\n",
       " Text(74.94234592445328, 106.98947368421057, 'entropy = 0.0\\nsamples = 6\\nvalue = [6, 0]'),\n",
       " Text(78.88667992047714, 126.44210526315791, 'entropy = 0.0\\nsamples = 5\\nvalue = [0, 5]'),\n",
       " Text(65.08151093439363, 165.34736842105264, 'entropy = 0.0\\nsamples = 4\\nvalue = [4, 0]'),\n",
       " Text(82.83101391650099, 184.8, 'X[47] <= 0.5\\nentropy = 0.346\\nsamples = 9\\nvalue = [7, 2]'),\n",
       " Text(78.88667992047714, 165.34736842105264, 'entropy = 0.0\\nsamples = 6\\nvalue = [6, 0]'),\n",
       " Text(86.77534791252485, 165.34736842105264, 'X[11] <= 0.5\\nentropy = 0.444\\nsamples = 3\\nvalue = [1, 2]'),\n",
       " Text(82.83101391650099, 145.89473684210526, 'entropy = 0.0\\nsamples = 2\\nvalue = [0, 2]'),\n",
       " Text(90.71968190854871, 145.89473684210526, 'entropy = 0.0\\nsamples = 1\\nvalue = [1, 0]'),\n",
       " Text(108.46918489065607, 204.25263157894736, 'X[4] <= 22.5\\nentropy = 0.28\\nsamples = 83\\nvalue = [14, 69]'),\n",
       " Text(98.60834990059642, 184.8, 'X[15] <= 0.5\\nentropy = 0.375\\nsamples = 4\\nvalue = [3, 1]'),\n",
       " Text(94.66401590457257, 165.34736842105264, 'entropy = 0.0\\nsamples = 1\\nvalue = [0, 1]'),\n",
       " Text(102.55268389662028, 165.34736842105264, 'entropy = 0.0\\nsamples = 3\\nvalue = [3, 0]'),\n",
       " Text(118.33001988071571, 184.8, 'X[39] <= 0.5\\nentropy = 0.24\\nsamples = 79\\nvalue = [11, 68]'),\n",
       " Text(110.441351888668, 165.34736842105264, 'X[37] <= 0.5\\nentropy = 0.198\\nsamples = 72\\nvalue = [8, 64]'),\n",
       " Text(106.49701789264414, 145.89473684210526, 'X[45] <= 0.5\\nentropy = 0.26\\nsamples = 52\\nvalue = [8, 44]'),\n",
       " Text(102.55268389662028, 126.44210526315791, 'X[2] <= 3.5\\nentropy = 0.237\\nsamples = 51\\nvalue = [7, 44]'),\n",
       " Text(92.69184890656064, 106.98947368421057, 'X[20] <= 0.5\\nentropy = 0.176\\nsamples = 41\\nvalue = [4, 37]'),\n",
       " Text(84.80318091451292, 87.53684210526319, 'X[29] <= 0.5\\nentropy = 0.105\\nsamples = 36\\nvalue = [2, 34]'),\n",
       " Text(80.85884691848906, 68.08421052631581, 'X[4] <= 44.0\\nentropy = 0.26\\nsamples = 13\\nvalue = [2, 11]'),\n",
       " Text(76.9145129224652, 48.63157894736844, 'X[19] <= 0.5\\nentropy = 0.153\\nsamples = 12\\nvalue = [1, 11]'),\n",
       " Text(72.97017892644135, 29.178947368421063, 'entropy = 0.0\\nsamples = 9\\nvalue = [0, 9]'),\n",
       " Text(80.85884691848906, 29.178947368421063, 'X[4] <= 32.0\\nentropy = 0.444\\nsamples = 3\\nvalue = [1, 2]'),\n",
       " Text(76.9145129224652, 9.726315789473688, 'entropy = 0.0\\nsamples = 1\\nvalue = [1, 0]'),\n",
       " Text(84.80318091451292, 9.726315789473688, 'entropy = 0.0\\nsamples = 2\\nvalue = [0, 2]'),\n",
       " Text(84.80318091451292, 48.63157894736844, 'entropy = 0.0\\nsamples = 1\\nvalue = [1, 0]'),\n",
       " Text(88.74751491053678, 68.08421052631581, 'entropy = 0.0\\nsamples = 23\\nvalue = [0, 23]'),\n",
       " Text(100.58051689860835, 87.53684210526319, 'X[4] <= 34.5\\nentropy = 0.48\\nsamples = 5\\nvalue = [2, 3]'),\n",
       " Text(96.6361829025845, 68.08421052631581, 'entropy = 0.0\\nsamples = 2\\nvalue = [2, 0]'),\n",
       " Text(104.52485089463221, 68.08421052631581, 'entropy = 0.0\\nsamples = 3\\nvalue = [0, 3]'),\n",
       " Text(112.41351888667992, 106.98947368421057, 'X[0] <= 25.5\\nentropy = 0.42\\nsamples = 10\\nvalue = [3, 7]'),\n",
       " Text(108.46918489065607, 87.53684210526319, 'entropy = 0.0\\nsamples = 5\\nvalue = [0, 5]'),\n",
       " Text(116.35785288270378, 87.53684210526319, 'X[3] <= 1.5\\nentropy = 0.48\\nsamples = 5\\nvalue = [3, 2]'),\n",
       " Text(112.41351888667992, 68.08421052631581, 'entropy = 0.0\\nsamples = 2\\nvalue = [0, 2]'),\n",
       " Text(120.30218687872764, 68.08421052631581, 'entropy = 0.0\\nsamples = 3\\nvalue = [3, 0]'),\n",
       " Text(110.441351888668, 126.44210526315791, 'entropy = 0.0\\nsamples = 1\\nvalue = [1, 0]'),\n",
       " Text(114.38568588469185, 145.89473684210526, 'entropy = 0.0\\nsamples = 20\\nvalue = [0, 20]'),\n",
       " Text(126.21868787276343, 165.34736842105264, 'X[18] <= 0.5\\nentropy = 0.49\\nsamples = 7\\nvalue = [3, 4]'),\n",
       " Text(122.27435387673957, 145.89473684210526, 'X[11] <= 0.5\\nentropy = 0.375\\nsamples = 4\\nvalue = [3, 1]'),\n",
       " Text(118.33001988071571, 126.44210526315791, 'entropy = 0.0\\nsamples = 3\\nvalue = [3, 0]'),\n",
       " Text(126.21868787276343, 126.44210526315791, 'entropy = 0.0\\nsamples = 1\\nvalue = [0, 1]'),\n",
       " Text(130.16302186878727, 145.89473684210526, 'entropy = 0.0\\nsamples = 3\\nvalue = [0, 3]'),\n",
       " Text(149.88469184890656, 243.15789473684208, 'X[51] <= 0.5\\nentropy = 0.463\\nsamples = 11\\nvalue = [7, 4]'),\n",
       " Text(145.9403578528827, 223.70526315789473, 'X[26] <= 0.5\\nentropy = 0.346\\nsamples = 9\\nvalue = [7, 2]'),\n",
       " Text(141.99602385685884, 204.25263157894736, 'X[3] <= 1.5\\nentropy = 0.219\\nsamples = 8\\nvalue = [7, 1]'),\n",
       " Text(138.05168986083498, 184.8, 'X[27] <= 0.5\\nentropy = 0.444\\nsamples = 3\\nvalue = [2, 1]'),\n",
       " Text(134.10735586481113, 165.34736842105264, 'entropy = 0.0\\nsamples = 2\\nvalue = [2, 0]'),\n",
       " Text(141.99602385685884, 165.34736842105264, 'entropy = 0.0\\nsamples = 1\\nvalue = [0, 1]'),\n",
       " Text(145.9403578528827, 184.8, 'entropy = 0.0\\nsamples = 5\\nvalue = [5, 0]'),\n",
       " Text(149.88469184890656, 204.25263157894736, 'entropy = 0.0\\nsamples = 1\\nvalue = [0, 1]'),\n",
       " Text(153.8290258449304, 223.70526315789473, 'entropy = 0.0\\nsamples = 2\\nvalue = [0, 2]'),\n",
       " Text(169.60636182902584, 262.61052631578946, 'X[21] <= 0.5\\nentropy = 0.42\\nsamples = 10\\nvalue = [7, 3]'),\n",
       " Text(165.66202783300199, 243.15789473684208, 'X[22] <= 0.5\\nentropy = 0.219\\nsamples = 8\\nvalue = [7, 1]'),\n",
       " Text(161.71769383697813, 223.70526315789473, 'entropy = 0.0\\nsamples = 7\\nvalue = [7, 0]'),\n",
       " Text(169.60636182902584, 223.70526315789473, 'entropy = 0.0\\nsamples = 1\\nvalue = [0, 1]'),\n",
       " Text(173.5506958250497, 243.15789473684208, 'entropy = 0.0\\nsamples = 2\\nvalue = [0, 2]'),\n",
       " Text(189.32803180914513, 282.06315789473683, 'X[16] <= 0.5\\nentropy = 0.32\\nsamples = 10\\nvalue = [8, 2]'),\n",
       " Text(185.38369781312127, 262.61052631578946, 'X[0] <= 39.0\\nentropy = 0.198\\nsamples = 9\\nvalue = [8, 1]'),\n",
       " Text(181.43936381709742, 243.15789473684208, 'entropy = 0.0\\nsamples = 8\\nvalue = [8, 0]'),\n",
       " Text(189.32803180914513, 243.15789473684208, 'entropy = 0.0\\nsamples = 1\\nvalue = [0, 1]'),\n",
       " Text(193.272365805169, 262.61052631578946, 'entropy = 0.0\\nsamples = 1\\nvalue = [0, 1]'),\n",
       " Text(265.07157057654075, 301.5157894736842, 'X[17] <= 0.5\\nentropy = 0.499\\nsamples = 197\\nvalue = [95, 102]'),\n",
       " Text(224.9502982107356, 282.06315789473683, 'X[46] <= 0.5\\nentropy = 0.492\\nsamples = 144\\nvalue = [81, 63]'),\n",
       " Text(217.0616302186879, 262.61052631578946, 'X[31] <= 0.5\\nentropy = 0.481\\nsamples = 134\\nvalue = [80, 54]'),\n",
       " Text(213.11729622266404, 243.15789473684208, 'X[15] <= 0.5\\nentropy = 0.471\\nsamples = 129\\nvalue = [80, 49]'),\n",
       " Text(177.49502982107356, 223.70526315789473, 'X[1] <= 7479.5\\nentropy = 0.285\\nsamples = 29\\nvalue = [24, 5]'),\n",
       " Text(173.5506958250497, 204.25263157894736, 'X[1] <= 482.5\\nentropy = 0.198\\nsamples = 27\\nvalue = [24, 3]'),\n",
       " Text(169.60636182902584, 184.8, 'entropy = 0.0\\nsamples = 1\\nvalue = [0, 1]'),\n",
       " Text(177.49502982107356, 184.8, 'X[3] <= 2.5\\nentropy = 0.142\\nsamples = 26\\nvalue = [24, 2]'),\n",
       " Text(173.5506958250497, 165.34736842105264, 'X[47] <= 0.5\\nentropy = 0.298\\nsamples = 11\\nvalue = [9, 2]'),\n",
       " Text(169.60636182902584, 145.89473684210526, 'X[13] <= 0.5\\nentropy = 0.18\\nsamples = 10\\nvalue = [9, 1]'),\n",
       " Text(165.66202783300199, 126.44210526315791, 'entropy = 0.0\\nsamples = 8\\nvalue = [8, 0]'),\n",
       " Text(173.5506958250497, 126.44210526315791, 'X[53] <= 0.5\\nentropy = 0.5\\nsamples = 2\\nvalue = [1, 1]'),\n",
       " Text(169.60636182902584, 106.98947368421057, 'entropy = 0.0\\nsamples = 1\\nvalue = [0, 1]'),\n",
       " Text(177.49502982107356, 106.98947368421057, 'entropy = 0.0\\nsamples = 1\\nvalue = [1, 0]'),\n",
       " Text(177.49502982107356, 145.89473684210526, 'entropy = 0.0\\nsamples = 1\\nvalue = [0, 1]'),\n",
       " Text(181.43936381709742, 165.34736842105264, 'entropy = 0.0\\nsamples = 15\\nvalue = [15, 0]'),\n",
       " Text(181.43936381709742, 204.25263157894736, 'entropy = 0.0\\nsamples = 2\\nvalue = [0, 2]'),\n",
       " Text(248.7395626242545, 223.70526315789473, 'X[0] <= 27.0\\nentropy = 0.493\\nsamples = 100\\nvalue = [56, 44]'),\n",
       " Text(226.3061630218688, 204.25263157894736, 'X[1] <= 1373.0\\nentropy = 0.5\\nsamples = 83\\nvalue = [42, 41]'),\n",
       " Text(205.10536779324056, 184.8, 'X[49] <= 0.5\\nentropy = 0.404\\nsamples = 32\\nvalue = [23, 9]'),\n",
       " Text(201.1610337972167, 165.34736842105264, 'X[35] <= 0.5\\nentropy = 0.476\\nsamples = 23\\nvalue = [14, 9]'),\n",
       " Text(193.272365805169, 145.89473684210526, 'X[20] <= 0.5\\nentropy = 0.375\\nsamples = 16\\nvalue = [12, 4]'),\n",
       " Text(189.32803180914513, 126.44210526315791, 'X[4] <= 58.0\\nentropy = 0.245\\nsamples = 14\\nvalue = [12, 2]'),\n",
       " Text(185.38369781312127, 106.98947368421057, 'X[8] <= 0.5\\nentropy = 0.142\\nsamples = 13\\nvalue = [12, 1]'),\n",
       " Text(181.43936381709742, 87.53684210526319, 'entropy = 0.0\\nsamples = 1\\nvalue = [0, 1]'),\n",
       " Text(189.32803180914513, 87.53684210526319, 'entropy = 0.0\\nsamples = 12\\nvalue = [12, 0]'),\n",
       " Text(193.272365805169, 106.98947368421057, 'entropy = 0.0\\nsamples = 1\\nvalue = [0, 1]'),\n",
       " Text(197.21669980119285, 126.44210526315791, 'entropy = 0.0\\nsamples = 2\\nvalue = [0, 2]'),\n",
       " Text(209.04970178926442, 145.89473684210526, 'X[0] <= 16.5\\nentropy = 0.408\\nsamples = 7\\nvalue = [2, 5]'),\n",
       " Text(205.10536779324056, 126.44210526315791, 'entropy = 0.0\\nsamples = 5\\nvalue = [0, 5]'),\n",
       " Text(212.99403578528828, 126.44210526315791, 'entropy = 0.0\\nsamples = 2\\nvalue = [2, 0]'),\n",
       " Text(209.04970178926442, 165.34736842105264, 'entropy = 0.0\\nsamples = 9\\nvalue = [9, 0]'),\n",
       " Text(247.50695825049704, 184.8, 'X[1] <= 7222.0\\nentropy = 0.468\\nsamples = 51\\nvalue = [19, 32]'),\n",
       " Text(243.56262425447318, 165.34736842105264, 'X[5] <= 1.5\\nentropy = 0.444\\nsamples = 48\\nvalue = [16, 32]'),\n",
       " Text(239.61829025844932, 145.89473684210526, 'X[0] <= 14.5\\nentropy = 0.423\\nsamples = 46\\nvalue = [14, 32]'),\n",
       " Text(220.882703777336, 126.44210526315791, 'X[34] <= 0.5\\nentropy = 0.231\\nsamples = 15\\nvalue = [2, 13]'),\n",
       " Text(216.93836978131213, 106.98947368421057, 'entropy = 0.0\\nsamples = 12\\nvalue = [0, 12]'),\n",
       " Text(224.82703777335985, 106.98947368421057, 'X[18] <= 0.5\\nentropy = 0.444\\nsamples = 3\\nvalue = [2, 1]'),\n",
       " Text(220.882703777336, 87.53684210526319, 'entropy = 0.0\\nsamples = 1\\nvalue = [0, 1]'),\n",
       " Text(228.7713717693837, 87.53684210526319, 'entropy = 0.0\\nsamples = 2\\nvalue = [2, 0]'),\n",
       " Text(258.3538767395626, 126.44210526315791, 'X[3] <= 3.5\\nentropy = 0.475\\nsamples = 31\\nvalue = [12, 19]'),\n",
       " Text(244.54870775347914, 106.98947368421057, 'X[48] <= 0.5\\nentropy = 0.5\\nsamples = 20\\nvalue = [10, 10]'),\n",
       " Text(236.66003976143142, 87.53684210526319, 'X[44] <= 0.5\\nentropy = 0.459\\nsamples = 14\\nvalue = [5, 9]'),\n",
       " Text(232.71570576540756, 68.08421052631581, 'entropy = 0.0\\nsamples = 2\\nvalue = [2, 0]'),\n",
       " Text(240.60437375745528, 68.08421052631581, 'X[21] <= 0.5\\nentropy = 0.375\\nsamples = 12\\nvalue = [3, 9]'),\n",
       " Text(232.71570576540756, 48.63157894736844, 'X[1] <= 2560.5\\nentropy = 0.198\\nsamples = 9\\nvalue = [1, 8]'),\n",
       " Text(228.7713717693837, 29.178947368421063, 'X[20] <= 0.5\\nentropy = 0.444\\nsamples = 3\\nvalue = [1, 2]'),\n",
       " Text(224.82703777335985, 9.726315789473688, 'entropy = 0.0\\nsamples = 2\\nvalue = [0, 2]'),\n",
       " Text(232.71570576540756, 9.726315789473688, 'entropy = 0.0\\nsamples = 1\\nvalue = [1, 0]'),\n",
       " Text(236.66003976143142, 29.178947368421063, 'entropy = 0.0\\nsamples = 6\\nvalue = [0, 6]'),\n",
       " Text(248.493041749503, 48.63157894736844, 'X[3] <= 1.5\\nentropy = 0.444\\nsamples = 3\\nvalue = [2, 1]'),\n",
       " Text(244.54870775347914, 29.178947368421063, 'entropy = 0.0\\nsamples = 1\\nvalue = [0, 1]'),\n",
       " Text(252.43737574552685, 29.178947368421063, 'entropy = 0.0\\nsamples = 2\\nvalue = [2, 0]'),\n",
       " Text(252.43737574552685, 87.53684210526319, 'X[58] <= 0.5\\nentropy = 0.278\\nsamples = 6\\nvalue = [5, 1]'),\n",
       " Text(248.493041749503, 68.08421052631581, 'entropy = 0.0\\nsamples = 5\\nvalue = [5, 0]'),\n",
       " Text(256.3817097415507, 68.08421052631581, 'entropy = 0.0\\nsamples = 1\\nvalue = [0, 1]'),\n",
       " Text(272.15904572564614, 106.98947368421057, 'X[4] <= 24.5\\nentropy = 0.298\\nsamples = 11\\nvalue = [2, 9]'),\n",
       " Text(268.21471172962225, 87.53684210526319, 'X[0] <= 19.5\\nentropy = 0.444\\nsamples = 3\\nvalue = [2, 1]'),\n",
       " Text(264.2703777335984, 68.08421052631581, 'entropy = 0.0\\nsamples = 1\\nvalue = [0, 1]'),\n",
       " Text(272.15904572564614, 68.08421052631581, 'entropy = 0.0\\nsamples = 2\\nvalue = [2, 0]'),\n",
       " Text(276.10337972166997, 87.53684210526319, 'entropy = 0.0\\nsamples = 8\\nvalue = [0, 8]'),\n",
       " Text(247.50695825049704, 145.89473684210526, 'entropy = 0.0\\nsamples = 2\\nvalue = [2, 0]'),\n",
       " Text(251.4512922465209, 165.34736842105264, 'entropy = 0.0\\nsamples = 3\\nvalue = [3, 0]'),\n",
       " Text(271.17296222664015, 204.25263157894736, 'X[4] <= 42.5\\nentropy = 0.291\\nsamples = 17\\nvalue = [14, 3]'),\n",
       " Text(263.28429423459244, 184.8, 'X[56] <= 0.5\\nentropy = 0.133\\nsamples = 14\\nvalue = [13, 1]'),\n",
       " Text(259.3399602385686, 165.34736842105264, 'entropy = 0.0\\nsamples = 13\\nvalue = [13, 0]'),\n",
       " Text(267.2286282306163, 165.34736842105264, 'entropy = 0.0\\nsamples = 1\\nvalue = [0, 1]'),\n",
       " Text(279.06163021868787, 184.8, 'X[56] <= 0.5\\nentropy = 0.444\\nsamples = 3\\nvalue = [1, 2]'),\n",
       " Text(275.11729622266404, 165.34736842105264, 'entropy = 0.0\\nsamples = 2\\nvalue = [0, 2]'),\n",
       " Text(283.00596421471175, 165.34736842105264, 'entropy = 0.0\\nsamples = 1\\nvalue = [1, 0]'),\n",
       " Text(221.00596421471175, 243.15789473684208, 'entropy = 0.0\\nsamples = 5\\nvalue = [0, 5]'),\n",
       " Text(232.8389662027833, 262.61052631578946, 'X[1] <= 1650.5\\nentropy = 0.18\\nsamples = 10\\nvalue = [1, 9]'),\n",
       " Text(228.89463220675944, 243.15789473684208, 'entropy = 0.0\\nsamples = 1\\nvalue = [1, 0]'),\n",
       " Text(236.78330019880715, 243.15789473684208, 'entropy = 0.0\\nsamples = 9\\nvalue = [0, 9]'),\n",
       " Text(305.1928429423459, 282.06315789473683, 'X[4] <= 23.5\\nentropy = 0.389\\nsamples = 53\\nvalue = [14, 39]'),\n",
       " Text(301.2485089463221, 262.61052631578946, 'entropy = 0.0\\nsamples = 2\\nvalue = [2, 0]'),\n",
       " Text(309.1371769383698, 262.61052631578946, 'X[0] <= 11.5\\nentropy = 0.36\\nsamples = 51\\nvalue = [12, 39]'),\n",
       " Text(296.81113320079527, 243.15789473684208, 'X[39] <= 0.5\\nentropy = 0.117\\nsamples = 16\\nvalue = [1, 15]'),\n",
       " Text(292.8667992047714, 223.70526315789473, 'entropy = 0.0\\nsamples = 15\\nvalue = [0, 15]'),\n",
       " Text(300.7554671968191, 223.70526315789473, 'entropy = 0.0\\nsamples = 1\\nvalue = [1, 0]'),\n",
       " Text(321.46322067594434, 243.15789473684208, 'X[18] <= 0.5\\nentropy = 0.431\\nsamples = 35\\nvalue = [11, 24]'),\n",
       " Text(308.6441351888668, 223.70526315789473, 'X[24] <= 0.5\\nentropy = 0.32\\nsamples = 25\\nvalue = [5, 20]'),\n",
       " Text(304.699801192843, 204.25263157894736, 'X[4] <= 24.5\\nentropy = 0.278\\nsamples = 24\\nvalue = [4, 20]'),\n",
       " Text(294.8389662027833, 184.8, 'X[2] <= 2.5\\nentropy = 0.5\\nsamples = 4\\nvalue = [2, 2]'),\n",
       " Text(290.89463220675947, 165.34736842105264, 'entropy = 0.0\\nsamples = 2\\nvalue = [0, 2]'),\n",
       " Text(298.7833001988072, 165.34736842105264, 'entropy = 0.0\\nsamples = 2\\nvalue = [2, 0]'),\n",
       " Text(314.5606361829026, 184.8, 'X[23] <= 0.5\\nentropy = 0.18\\nsamples = 20\\nvalue = [2, 18]'),\n",
       " Text(306.6719681908549, 165.34736842105264, 'X[0] <= 12.5\\nentropy = 0.105\\nsamples = 18\\nvalue = [1, 17]'),\n",
       " Text(302.727634194831, 145.89473684210526, 'X[20] <= 0.5\\nentropy = 0.375\\nsamples = 4\\nvalue = [1, 3]'),\n",
       " Text(298.7833001988072, 126.44210526315791, 'entropy = 0.0\\nsamples = 3\\nvalue = [0, 3]'),\n",
       " Text(306.6719681908549, 126.44210526315791, 'entropy = 0.0\\nsamples = 1\\nvalue = [1, 0]'),\n",
       " Text(310.6163021868787, 145.89473684210526, 'entropy = 0.0\\nsamples = 14\\nvalue = [0, 14]'),\n",
       " Text(322.4493041749503, 165.34736842105264, 'X[0] <= 30.0\\nentropy = 0.5\\nsamples = 2\\nvalue = [1, 1]'),\n",
       " Text(318.50497017892644, 145.89473684210526, 'entropy = 0.0\\nsamples = 1\\nvalue = [1, 0]'),\n",
       " Text(326.39363817097416, 145.89473684210526, 'entropy = 0.0\\nsamples = 1\\nvalue = [0, 1]'),\n",
       " Text(312.5884691848907, 204.25263157894736, 'entropy = 0.0\\nsamples = 1\\nvalue = [1, 0]'),\n",
       " Text(334.2823061630219, 223.70526315789473, 'X[44] <= 0.5\\nentropy = 0.48\\nsamples = 10\\nvalue = [6, 4]'),\n",
       " Text(330.33797216699804, 204.25263157894736, 'entropy = 0.0\\nsamples = 4\\nvalue = [4, 0]'),\n",
       " Text(338.22664015904576, 204.25263157894736, 'X[1] <= 1400.5\\nentropy = 0.444\\nsamples = 6\\nvalue = [2, 4]'),\n",
       " Text(334.2823061630219, 184.8, 'X[4] <= 62.5\\nentropy = 0.444\\nsamples = 3\\nvalue = [2, 1]'),\n",
       " Text(330.33797216699804, 165.34736842105264, 'entropy = 0.0\\nsamples = 2\\nvalue = [2, 0]'),\n",
       " Text(338.22664015904576, 165.34736842105264, 'entropy = 0.0\\nsamples = 1\\nvalue = [0, 1]'),\n",
       " Text(342.1709741550696, 184.8, 'entropy = 0.0\\nsamples = 3\\nvalue = [0, 3]'),\n",
       " Text(342.1709741550696, 320.9684210526316, 'X[33] <= 0.5\\nentropy = 0.334\\nsamples = 33\\nvalue = [26, 7]'),\n",
       " Text(338.22664015904576, 301.5157894736842, 'X[3] <= 1.5\\nentropy = 0.231\\nsamples = 30\\nvalue = [26, 4]'),\n",
       " Text(330.33797216699804, 282.06315789473683, 'X[21] <= 0.5\\nentropy = 0.444\\nsamples = 3\\nvalue = [1, 2]'),\n",
       " Text(326.39363817097416, 262.61052631578946, 'entropy = 0.0\\nsamples = 2\\nvalue = [0, 2]'),\n",
       " Text(334.2823061630219, 262.61052631578946, 'entropy = 0.0\\nsamples = 1\\nvalue = [1, 0]'),\n",
       " Text(346.1153081510935, 282.06315789473683, 'X[38] <= 0.5\\nentropy = 0.137\\nsamples = 27\\nvalue = [25, 2]'),\n",
       " Text(342.1709741550696, 262.61052631578946, 'X[6] <= 1.5\\nentropy = 0.074\\nsamples = 26\\nvalue = [25, 1]'),\n",
       " Text(338.22664015904576, 243.15789473684208, 'entropy = 0.0\\nsamples = 23\\nvalue = [23, 0]'),\n",
       " Text(346.1153081510935, 243.15789473684208, 'X[55] <= 0.5\\nentropy = 0.444\\nsamples = 3\\nvalue = [2, 1]'),\n",
       " Text(342.1709741550696, 223.70526315789473, 'entropy = 0.0\\nsamples = 2\\nvalue = [2, 0]'),\n",
       " Text(350.0596421471173, 223.70526315789473, 'entropy = 0.0\\nsamples = 1\\nvalue = [0, 1]'),\n",
       " Text(350.0596421471173, 262.61052631578946, 'entropy = 0.0\\nsamples = 1\\nvalue = [0, 1]'),\n",
       " Text(346.1153081510935, 301.5157894736842, 'entropy = 0.0\\nsamples = 3\\nvalue = [0, 3]'),\n",
       " Text(463.76739562624255, 340.4210526315789, 'X[51] <= 0.5\\nentropy = 0.221\\nsamples = 292\\nvalue = [37, 255]'),\n",
       " Text(439.4234592445328, 320.9684210526316, 'X[17] <= 0.5\\nentropy = 0.173\\nsamples = 261\\nvalue = [25, 236]'),\n",
       " Text(410.45725646123265, 301.5157894736842, 'X[5] <= 1.5\\nentropy = 0.246\\nsamples = 160\\nvalue = [23, 137]'),\n",
       " Text(389.99602385685887, 282.06315789473683, 'X[24] <= 0.5\\nentropy = 0.167\\nsamples = 120\\nvalue = [11, 109]'),\n",
       " Text(378.65606361829026, 262.61052631578946, 'X[4] <= 29.5\\nentropy = 0.143\\nsamples = 116\\nvalue = [9, 107]'),\n",
       " Text(367.80914512922465, 243.15789473684208, 'X[18] <= 0.5\\nentropy = 0.287\\nsamples = 46\\nvalue = [8, 38]'),\n",
       " Text(357.948310139165, 223.70526315789473, 'X[2] <= 3.5\\nentropy = 0.219\\nsamples = 40\\nvalue = [5, 35]'),\n",
       " Text(354.0039761431412, 204.25263157894736, 'entropy = 0.0\\nsamples = 22\\nvalue = [0, 22]'),\n",
       " Text(361.8926441351889, 204.25263157894736, 'X[0] <= 21.0\\nentropy = 0.401\\nsamples = 18\\nvalue = [5, 13]'),\n",
       " Text(354.0039761431412, 184.8, 'X[1] <= 1004.5\\nentropy = 0.5\\nsamples = 8\\nvalue = [4, 4]'),\n",
       " Text(350.0596421471173, 165.34736842105264, 'entropy = 0.0\\nsamples = 3\\nvalue = [0, 3]'),\n",
       " Text(357.948310139165, 165.34736842105264, 'X[30] <= 0.5\\nentropy = 0.32\\nsamples = 5\\nvalue = [4, 1]'),\n",
       " Text(354.0039761431412, 145.89473684210526, 'entropy = 0.0\\nsamples = 4\\nvalue = [4, 0]'),\n",
       " Text(361.8926441351889, 145.89473684210526, 'entropy = 0.0\\nsamples = 1\\nvalue = [0, 1]'),\n",
       " Text(369.7813121272366, 184.8, 'X[20] <= 0.5\\nentropy = 0.18\\nsamples = 10\\nvalue = [1, 9]'),\n",
       " Text(365.83697813121273, 165.34736842105264, 'entropy = 0.0\\nsamples = 9\\nvalue = [0, 9]'),\n",
       " Text(373.72564612326045, 165.34736842105264, 'entropy = 0.0\\nsamples = 1\\nvalue = [1, 0]'),\n",
       " Text(377.66998011928433, 223.70526315789473, 'X[35] <= 0.5\\nentropy = 0.5\\nsamples = 6\\nvalue = [3, 3]'),\n",
       " Text(373.72564612326045, 204.25263157894736, 'entropy = 0.0\\nsamples = 2\\nvalue = [0, 2]'),\n",
       " Text(381.61431411530816, 204.25263157894736, 'X[1] <= 3063.0\\nentropy = 0.375\\nsamples = 4\\nvalue = [3, 1]'),\n",
       " Text(377.66998011928433, 184.8, 'entropy = 0.0\\nsamples = 3\\nvalue = [3, 0]'),\n",
       " Text(385.55864811133205, 184.8, 'entropy = 0.0\\nsamples = 1\\nvalue = [0, 1]'),\n",
       " Text(389.5029821073559, 243.15789473684208, 'X[45] <= 0.5\\nentropy = 0.028\\nsamples = 70\\nvalue = [1, 69]'),\n",
       " Text(385.55864811133205, 223.70526315789473, 'entropy = 0.0\\nsamples = 66\\nvalue = [0, 66]'),\n",
       " Text(393.44731610337976, 223.70526315789473, 'X[34] <= 0.5\\nentropy = 0.375\\nsamples = 4\\nvalue = [1, 3]'),\n",
       " Text(389.5029821073559, 204.25263157894736, 'entropy = 0.0\\nsamples = 3\\nvalue = [0, 3]'),\n",
       " Text(397.3916500994036, 204.25263157894736, 'entropy = 0.0\\nsamples = 1\\nvalue = [1, 0]'),\n",
       " Text(401.3359840954275, 262.61052631578946, 'X[35] <= 0.5\\nentropy = 0.5\\nsamples = 4\\nvalue = [2, 2]'),\n",
       " Text(397.3916500994036, 243.15789473684208, 'entropy = 0.0\\nsamples = 2\\nvalue = [0, 2]'),\n",
       " Text(405.2803180914513, 243.15789473684208, 'entropy = 0.0\\nsamples = 2\\nvalue = [2, 0]'),\n",
       " Text(430.91848906560637, 282.06315789473683, 'X[1] <= 3607.5\\nentropy = 0.42\\nsamples = 40\\nvalue = [12, 28]'),\n",
       " Text(417.1133200795229, 262.61052631578946, 'X[32] <= 0.5\\nentropy = 0.236\\nsamples = 22\\nvalue = [3, 19]'),\n",
       " Text(413.168986083499, 243.15789473684208, 'X[4] <= 22.0\\nentropy = 0.172\\nsamples = 21\\nvalue = [2, 19]'),\n",
       " Text(409.2246520874752, 223.70526315789473, 'entropy = 0.0\\nsamples = 1\\nvalue = [1, 0]'),\n",
       " Text(417.1133200795229, 223.70526315789473, 'X[6] <= 1.5\\nentropy = 0.095\\nsamples = 20\\nvalue = [1, 19]'),\n",
       " Text(413.168986083499, 204.25263157894736, 'entropy = 0.0\\nsamples = 16\\nvalue = [0, 16]'),\n",
       " Text(421.05765407554674, 204.25263157894736, 'X[4] <= 45.5\\nentropy = 0.375\\nsamples = 4\\nvalue = [1, 3]'),\n",
       " Text(417.1133200795229, 184.8, 'entropy = 0.0\\nsamples = 3\\nvalue = [0, 3]'),\n",
       " Text(425.0019880715706, 184.8, 'entropy = 0.0\\nsamples = 1\\nvalue = [1, 0]'),\n",
       " Text(421.05765407554674, 243.15789473684208, 'entropy = 0.0\\nsamples = 1\\nvalue = [1, 0]'),\n",
       " Text(444.7236580516899, 262.61052631578946, 'X[36] <= 0.5\\nentropy = 0.5\\nsamples = 18\\nvalue = [9, 9]'),\n",
       " Text(440.77932405566605, 243.15789473684208, 'X[49] <= 0.5\\nentropy = 0.459\\nsamples = 14\\nvalue = [9, 5]'),\n",
       " Text(432.89065606361834, 223.70526315789473, 'X[32] <= 0.5\\nentropy = 0.375\\nsamples = 4\\nvalue = [1, 3]'),\n",
       " Text(428.94632206759445, 204.25263157894736, 'entropy = 0.0\\nsamples = 3\\nvalue = [0, 3]'),\n",
       " Text(436.83499005964217, 204.25263157894736, 'entropy = 0.0\\nsamples = 1\\nvalue = [1, 0]'),\n",
       " Text(448.6679920477137, 223.70526315789473, 'X[32] <= 0.5\\nentropy = 0.32\\nsamples = 10\\nvalue = [8, 2]'),\n",
       " Text(444.7236580516899, 204.25263157894736, 'X[6] <= 1.5\\nentropy = 0.198\\nsamples = 9\\nvalue = [8, 1]'),\n",
       " Text(440.77932405566605, 184.8, 'entropy = 0.0\\nsamples = 7\\nvalue = [7, 0]'),\n",
       " Text(448.6679920477137, 184.8, 'X[13] <= 0.5\\nentropy = 0.5\\nsamples = 2\\nvalue = [1, 1]'),\n",
       " Text(444.7236580516899, 165.34736842105264, 'entropy = 0.0\\nsamples = 1\\nvalue = [0, 1]'),\n",
       " Text(452.6123260437376, 165.34736842105264, 'entropy = 0.0\\nsamples = 1\\nvalue = [1, 0]'),\n",
       " Text(452.6123260437376, 204.25263157894736, 'entropy = 0.0\\nsamples = 1\\nvalue = [0, 1]'),\n",
       " Text(448.6679920477137, 243.15789473684208, 'entropy = 0.0\\nsamples = 4\\nvalue = [0, 4]'),\n",
       " Text(468.389662027833, 301.5157894736842, 'X[1] <= 11867.0\\nentropy = 0.039\\nsamples = 101\\nvalue = [2, 99]'),\n",
       " Text(464.44532803180914, 282.06315789473683, 'X[4] <= 23.5\\nentropy = 0.02\\nsamples = 100\\nvalue = [1, 99]'),\n",
       " Text(460.5009940357853, 262.61052631578946, 'X[1] <= 5247.5\\nentropy = 0.375\\nsamples = 4\\nvalue = [1, 3]'),\n",
       " Text(456.5566600397614, 243.15789473684208, 'entropy = 0.0\\nsamples = 3\\nvalue = [0, 3]'),\n",
       " Text(464.44532803180914, 243.15789473684208, 'entropy = 0.0\\nsamples = 1\\nvalue = [1, 0]'),\n",
       " Text(468.389662027833, 262.61052631578946, 'entropy = 0.0\\nsamples = 96\\nvalue = [0, 96]'),\n",
       " Text(472.33399602385686, 282.06315789473683, 'entropy = 0.0\\nsamples = 1\\nvalue = [1, 0]'),\n",
       " Text(488.1113320079523, 320.9684210526316, 'X[4] <= 44.5\\nentropy = 0.475\\nsamples = 31\\nvalue = [12, 19]'),\n",
       " Text(484.16699801192846, 301.5157894736842, 'X[37] <= 0.5\\nentropy = 0.5\\nsamples = 24\\nvalue = [12, 12]'),\n",
       " Text(480.22266401590457, 282.06315789473683, 'X[0] <= 16.5\\nentropy = 0.48\\nsamples = 20\\nvalue = [8, 12]'),\n",
       " Text(476.27833001988074, 262.61052631578946, 'entropy = 0.0\\nsamples = 7\\nvalue = [0, 7]'),\n",
       " Text(484.16699801192846, 262.61052631578946, 'X[44] <= 0.5\\nentropy = 0.473\\nsamples = 13\\nvalue = [8, 5]'),\n",
       " Text(480.22266401590457, 243.15789473684208, 'entropy = 0.0\\nsamples = 2\\nvalue = [0, 2]'),\n",
       " Text(488.1113320079523, 243.15789473684208, 'X[5] <= 1.5\\nentropy = 0.397\\nsamples = 11\\nvalue = [8, 3]'),\n",
       " Text(484.16699801192846, 223.70526315789473, 'X[4] <= 32.5\\nentropy = 0.5\\nsamples = 6\\nvalue = [3, 3]'),\n",
       " Text(480.22266401590457, 204.25263157894736, 'entropy = 0.0\\nsamples = 3\\nvalue = [0, 3]'),\n",
       " Text(488.1113320079523, 204.25263157894736, 'entropy = 0.0\\nsamples = 3\\nvalue = [3, 0]'),\n",
       " Text(492.05566600397617, 223.70526315789473, 'entropy = 0.0\\nsamples = 5\\nvalue = [5, 0]'),\n",
       " Text(488.1113320079523, 282.06315789473683, 'entropy = 0.0\\nsamples = 4\\nvalue = [4, 0]'),\n",
       " Text(492.05566600397617, 301.5157894736842, 'entropy = 0.0\\nsamples = 7\\nvalue = [0, 7]')]"
      ]
     },
     "execution_count": 12,
     "metadata": {},
     "output_type": "execute_result"
    }
   ],
   "source": [
    "tree.plot_tree(clf32.fit(Xlr, Ylr))"
   ]
  },
  {
   "cell_type": "code",
   "execution_count": 7,
   "metadata": {},
   "outputs": [
    {
     "data": {
      "text/plain": [
       "[Text(310.0, 323.4, 'X[33] <= 0.5\\nentropy = 0.421\\nsamples = 750\\nvalue = [226, 524]'),\n",
       " Text(248.0, 230.99999999999997, 'X[9] <= 0.5\\nentropy = 0.443\\nsamples = 614\\nvalue = [203, 411]'),\n",
       " Text(124.0, 138.6, 'X[10] <= 0.5\\nentropy = 0.379\\nsamples = 425\\nvalue = [108, 317]'),\n",
       " Text(62.0, 46.19999999999999, 'entropy = 0.246\\nsamples = 258\\nvalue = [37, 221]'),\n",
       " Text(186.0, 46.19999999999999, 'entropy = 0.489\\nsamples = 167\\nvalue = [71, 96]'),\n",
       " Text(372.0, 138.6, 'X[0] <= 15.5\\nentropy = 0.5\\nsamples = 189\\nvalue = [95, 94]'),\n",
       " Text(310.0, 46.19999999999999, 'entropy = 0.476\\nsamples = 82\\nvalue = [32, 50]'),\n",
       " Text(434.0, 46.19999999999999, 'entropy = 0.484\\nsamples = 107\\nvalue = [63, 44]'),\n",
       " Text(372.0, 230.99999999999997, 'entropy = 0.281\\nsamples = 136\\nvalue = [23, 113]')]"
      ]
     },
     "execution_count": 7,
     "metadata": {},
     "output_type": "execute_result"
    }
   ],
   "source": [
    "tree.plot_tree(clf_best.fit(Xlr, Ylr))"
   ]
  },
  {
   "cell_type": "markdown",
   "metadata": {},
   "source": [
    "\n",
    "##After you've built the best model you can, now it's time to visualize it!\n"
   ]
  },
  {
   "cell_type": "markdown",
   "metadata": {},
   "source": [
    "Rememeber that amazing blog post from a few paragraphs ago, that demonstrated how to visualize and interpret the results of your Decision Tree model. We've seen that this can perform very well, but let's see how it does on the \"German Credit\" dataset that we're working on, due to it being a bit larger than the one used by the blog authors."
   ]
  },
  {
   "cell_type": "markdown",
   "metadata": {},
   "source": [
    "First, we're going to need to install their package. If you're using Anaconda, this can be done easily by running:"
   ]
  },
  {
   "cell_type": "code",
   "execution_count": 14,
   "metadata": {
    "scrolled": true
   },
   "outputs": [
    {
     "name": "stdout",
     "output_type": "stream",
     "text": [
      "Collecting dtreeviz\n",
      "  Downloading https://files.pythonhosted.org/packages/6d/b3/960d6b83bd87b0e5d5f109a00dd25a3b3d6ecd8f6cf5a53fc0e080f23af5/dtreeviz-0.8.1.tar.gz\n",
      "Requirement already satisfied: graphviz>=0.9 in c:\\users\\supra\\anaconda3\\lib\\site-packages (from dtreeviz) (0.13.2)\n",
      "Requirement already satisfied: pandas in c:\\users\\supra\\anaconda3\\lib\\site-packages (from dtreeviz) (0.24.2)\n",
      "Requirement already satisfied: numpy in c:\\users\\supra\\anaconda3\\lib\\site-packages (from dtreeviz) (1.16.4)\n",
      "Requirement already satisfied: scikit-learn in c:\\users\\supra\\anaconda3\\lib\\site-packages (from dtreeviz) (0.21.2)\n",
      "Requirement already satisfied: matplotlib in c:\\users\\supra\\anaconda3\\lib\\site-packages (from dtreeviz) (3.1.0)\n",
      "Collecting colour (from dtreeviz)\n",
      "  Downloading https://files.pythonhosted.org/packages/74/46/e81907704ab203206769dee1385dc77e1407576ff8f50a0681d0a6b541be/colour-0.1.5-py2.py3-none-any.whl\n",
      "Requirement already satisfied: pytz>=2011k in c:\\users\\supra\\anaconda3\\lib\\site-packages (from pandas->dtreeviz) (2019.1)\n",
      "Requirement already satisfied: python-dateutil>=2.5.0 in c:\\users\\supra\\anaconda3\\lib\\site-packages (from pandas->dtreeviz) (2.8.0)\n",
      "Requirement already satisfied: scipy>=0.17.0 in c:\\users\\supra\\anaconda3\\lib\\site-packages (from scikit-learn->dtreeviz) (1.2.1)\n",
      "Requirement already satisfied: joblib>=0.11 in c:\\users\\supra\\anaconda3\\lib\\site-packages (from scikit-learn->dtreeviz) (0.13.2)\n",
      "Requirement already satisfied: cycler>=0.10 in c:\\users\\supra\\anaconda3\\lib\\site-packages (from matplotlib->dtreeviz) (0.10.0)\n",
      "Requirement already satisfied: kiwisolver>=1.0.1 in c:\\users\\supra\\anaconda3\\lib\\site-packages (from matplotlib->dtreeviz) (1.1.0)\n",
      "Requirement already satisfied: pyparsing!=2.0.4,!=2.1.2,!=2.1.6,>=2.0.1 in c:\\users\\supra\\anaconda3\\lib\\site-packages (from matplotlib->dtreeviz) (2.4.0)\n",
      "Requirement already satisfied: six>=1.5 in c:\\users\\supra\\anaconda3\\lib\\site-packages (from python-dateutil>=2.5.0->pandas->dtreeviz) (1.12.0)\n",
      "Requirement already satisfied: setuptools in c:\\users\\supra\\anaconda3\\lib\\site-packages (from kiwisolver>=1.0.1->matplotlib->dtreeviz) (41.0.1)\n",
      "Building wheels for collected packages: dtreeviz\n",
      "  Building wheel for dtreeviz (setup.py): started\n",
      "  Building wheel for dtreeviz (setup.py): finished with status 'done'\n",
      "  Stored in directory: C:\\Users\\supra\\AppData\\Local\\pip\\Cache\\wheels\\d8\\74\\06\\0d9d450156c7cb2f1fcfb51a55b1542d26f459f557d742c406\n",
      "Successfully built dtreeviz\n",
      "Installing collected packages: colour, dtreeviz\n",
      "Successfully installed colour-0.1.5 dtreeviz-0.8.1\n"
     ]
    }
   ],
   "source": [
    "! pip install dtreeviz"
   ]
  },
  {
   "cell_type": "markdown",
   "metadata": {},
   "source": [
    "If for any reason this way of installing doesn't work for you straight out of the box, please refer to the more detailed documentation here: https://github.com/parrt/dtreeviz"
   ]
  },
  {
   "cell_type": "markdown",
   "metadata": {},
   "source": [
    "Now you're ready to visualize your Decision Tree model! Please feel free to use the blog post for guidance and inspiration!"
   ]
  },
  {
   "cell_type": "code",
   "execution_count": 32,
   "metadata": {
    "scrolled": true
   },
   "outputs": [
    {
     "ename": "ExecutableNotFound",
     "evalue": "failed to execute ['dot', '-Tsvg', '-o', 'C:\\\\Users\\\\supra\\\\AppData\\\\Local\\\\Temp\\\\DTreeViz_8660.svg', 'C:/Users/supra/AppData/Local/Temp\\\\DTreeViz_8660'], make sure the Graphviz executables are on your systems' PATH",
     "output_type": "error",
     "traceback": [
      "\u001b[1;31m---------------------------------------------------------------------------\u001b[0m",
      "\u001b[1;31mFileNotFoundError\u001b[0m                         Traceback (most recent call last)",
      "\u001b[1;32m~\\Anaconda3\\lib\\site-packages\\graphviz\\backend.py\u001b[0m in \u001b[0;36mrun\u001b[1;34m(cmd, input, capture_output, check, quiet, **kwargs)\u001b[0m\n\u001b[0;32m    158\u001b[0m     \u001b[1;32mtry\u001b[0m\u001b[1;33m:\u001b[0m\u001b[1;33m\u001b[0m\u001b[1;33m\u001b[0m\u001b[0m\n\u001b[1;32m--> 159\u001b[1;33m         \u001b[0mproc\u001b[0m \u001b[1;33m=\u001b[0m \u001b[0msubprocess\u001b[0m\u001b[1;33m.\u001b[0m\u001b[0mPopen\u001b[0m\u001b[1;33m(\u001b[0m\u001b[0mcmd\u001b[0m\u001b[1;33m,\u001b[0m \u001b[0mstartupinfo\u001b[0m\u001b[1;33m=\u001b[0m\u001b[0mget_startupinfo\u001b[0m\u001b[1;33m(\u001b[0m\u001b[1;33m)\u001b[0m\u001b[1;33m,\u001b[0m \u001b[1;33m**\u001b[0m\u001b[0mkwargs\u001b[0m\u001b[1;33m)\u001b[0m\u001b[1;33m\u001b[0m\u001b[1;33m\u001b[0m\u001b[0m\n\u001b[0m\u001b[0;32m    160\u001b[0m     \u001b[1;32mexcept\u001b[0m \u001b[0mOSError\u001b[0m \u001b[1;32mas\u001b[0m \u001b[0me\u001b[0m\u001b[1;33m:\u001b[0m\u001b[1;33m\u001b[0m\u001b[1;33m\u001b[0m\u001b[0m\n",
      "\u001b[1;32m~\\Anaconda3\\lib\\subprocess.py\u001b[0m in \u001b[0;36m__init__\u001b[1;34m(self, args, bufsize, executable, stdin, stdout, stderr, preexec_fn, close_fds, shell, cwd, env, universal_newlines, startupinfo, creationflags, restore_signals, start_new_session, pass_fds, encoding, errors, text)\u001b[0m\n\u001b[0;32m    774\u001b[0m                                 \u001b[0merrread\u001b[0m\u001b[1;33m,\u001b[0m \u001b[0merrwrite\u001b[0m\u001b[1;33m,\u001b[0m\u001b[1;33m\u001b[0m\u001b[1;33m\u001b[0m\u001b[0m\n\u001b[1;32m--> 775\u001b[1;33m                                 restore_signals, start_new_session)\n\u001b[0m\u001b[0;32m    776\u001b[0m         \u001b[1;32mexcept\u001b[0m\u001b[1;33m:\u001b[0m\u001b[1;33m\u001b[0m\u001b[1;33m\u001b[0m\u001b[0m\n",
      "\u001b[1;32m~\\Anaconda3\\lib\\subprocess.py\u001b[0m in \u001b[0;36m_execute_child\u001b[1;34m(self, args, executable, preexec_fn, close_fds, pass_fds, cwd, env, startupinfo, creationflags, shell, p2cread, p2cwrite, c2pread, c2pwrite, errread, errwrite, unused_restore_signals, unused_start_new_session)\u001b[0m\n\u001b[0;32m   1177\u001b[0m                                          \u001b[0mos\u001b[0m\u001b[1;33m.\u001b[0m\u001b[0mfspath\u001b[0m\u001b[1;33m(\u001b[0m\u001b[0mcwd\u001b[0m\u001b[1;33m)\u001b[0m \u001b[1;32mif\u001b[0m \u001b[0mcwd\u001b[0m \u001b[1;32mis\u001b[0m \u001b[1;32mnot\u001b[0m \u001b[1;32mNone\u001b[0m \u001b[1;32melse\u001b[0m \u001b[1;32mNone\u001b[0m\u001b[1;33m,\u001b[0m\u001b[1;33m\u001b[0m\u001b[1;33m\u001b[0m\u001b[0m\n\u001b[1;32m-> 1178\u001b[1;33m                                          startupinfo)\n\u001b[0m\u001b[0;32m   1179\u001b[0m             \u001b[1;32mfinally\u001b[0m\u001b[1;33m:\u001b[0m\u001b[1;33m\u001b[0m\u001b[1;33m\u001b[0m\u001b[0m\n",
      "\u001b[1;31mFileNotFoundError\u001b[0m: [WinError 2] The system cannot find the file specified",
      "\nDuring handling of the above exception, another exception occurred:\n",
      "\u001b[1;31mExecutableNotFound\u001b[0m                        Traceback (most recent call last)",
      "\u001b[1;32m<ipython-input-32-da11149852fa>\u001b[0m in \u001b[0;36m<module>\u001b[1;34m\u001b[0m\n\u001b[0;32m      1\u001b[0m \u001b[1;32mfrom\u001b[0m \u001b[0mdtreeviz\u001b[0m\u001b[1;33m.\u001b[0m\u001b[0mtrees\u001b[0m \u001b[1;32mimport\u001b[0m \u001b[0mdtreeviz\u001b[0m\u001b[1;33m\u001b[0m\u001b[1;33m\u001b[0m\u001b[0m\n\u001b[0;32m      2\u001b[0m \u001b[0mviz\u001b[0m \u001b[1;33m=\u001b[0m \u001b[0mdtreeviz\u001b[0m\u001b[1;33m(\u001b[0m\u001b[0mclf_best\u001b[0m\u001b[1;33m,\u001b[0m \u001b[0mXlr\u001b[0m\u001b[1;33m,\u001b[0m \u001b[0mYlr\u001b[0m\u001b[1;33m,\u001b[0m \u001b[0mtarget_name\u001b[0m\u001b[1;33m=\u001b[0m\u001b[1;34m\"German Credit\"\u001b[0m\u001b[1;33m,\u001b[0m \u001b[0mfeature_names\u001b[0m\u001b[1;33m=\u001b[0m\u001b[0mgc_features\u001b[0m\u001b[1;33m.\u001b[0m\u001b[0mcolumns\u001b[0m\u001b[1;33m,\u001b[0m \u001b[0mclass_names\u001b[0m\u001b[1;33m=\u001b[0m\u001b[0mlist\u001b[0m\u001b[1;33m(\u001b[0m\u001b[0mlabel_encoder\u001b[0m\u001b[1;33m.\u001b[0m\u001b[0mclasses_\u001b[0m\u001b[1;33m)\u001b[0m\u001b[1;33m)\u001b[0m\u001b[1;33m\u001b[0m\u001b[1;33m\u001b[0m\u001b[0m\n\u001b[1;32m----> 3\u001b[1;33m \u001b[0mviz\u001b[0m\u001b[1;33m.\u001b[0m\u001b[0mview\u001b[0m\u001b[1;33m(\u001b[0m\u001b[1;33m)\u001b[0m\u001b[1;33m\u001b[0m\u001b[1;33m\u001b[0m\u001b[0m\n\u001b[0m",
      "\u001b[1;32m~\\Anaconda3\\lib\\site-packages\\dtreeviz\\trees.py\u001b[0m in \u001b[0;36mview\u001b[1;34m(self)\u001b[0m\n\u001b[0;32m     38\u001b[0m \u001b[1;33m\u001b[0m\u001b[0m\n\u001b[0;32m     39\u001b[0m     \u001b[1;32mdef\u001b[0m \u001b[0mview\u001b[0m\u001b[1;33m(\u001b[0m\u001b[0mself\u001b[0m\u001b[1;33m)\u001b[0m\u001b[1;33m:\u001b[0m\u001b[1;33m\u001b[0m\u001b[1;33m\u001b[0m\u001b[0m\n\u001b[1;32m---> 40\u001b[1;33m         \u001b[0msvgfilename\u001b[0m \u001b[1;33m=\u001b[0m \u001b[0mself\u001b[0m\u001b[1;33m.\u001b[0m\u001b[0msave_svg\u001b[0m\u001b[1;33m(\u001b[0m\u001b[1;33m)\u001b[0m\u001b[1;33m\u001b[0m\u001b[1;33m\u001b[0m\u001b[0m\n\u001b[0m\u001b[0;32m     41\u001b[0m         \u001b[0mview\u001b[0m\u001b[1;33m(\u001b[0m\u001b[0msvgfilename\u001b[0m\u001b[1;33m)\u001b[0m\u001b[1;33m\u001b[0m\u001b[1;33m\u001b[0m\u001b[0m\n\u001b[0;32m     42\u001b[0m \u001b[1;33m\u001b[0m\u001b[0m\n",
      "\u001b[1;32m~\\Anaconda3\\lib\\site-packages\\dtreeviz\\trees.py\u001b[0m in \u001b[0;36msave_svg\u001b[1;34m(self)\u001b[0m\n\u001b[0;32m     45\u001b[0m         \u001b[0mtmp\u001b[0m \u001b[1;33m=\u001b[0m \u001b[0mtempfile\u001b[0m\u001b[1;33m.\u001b[0m\u001b[0mgettempdir\u001b[0m\u001b[1;33m(\u001b[0m\u001b[1;33m)\u001b[0m\u001b[1;33m\u001b[0m\u001b[1;33m\u001b[0m\u001b[0m\n\u001b[0;32m     46\u001b[0m         \u001b[0msvgfilename\u001b[0m \u001b[1;33m=\u001b[0m \u001b[0mos\u001b[0m\u001b[1;33m.\u001b[0m\u001b[0mpath\u001b[0m\u001b[1;33m.\u001b[0m\u001b[0mjoin\u001b[0m\u001b[1;33m(\u001b[0m\u001b[0mtmp\u001b[0m\u001b[1;33m,\u001b[0m \u001b[1;34mf\"DTreeViz_{os.getpid()}.svg\"\u001b[0m\u001b[1;33m)\u001b[0m\u001b[1;33m\u001b[0m\u001b[1;33m\u001b[0m\u001b[0m\n\u001b[1;32m---> 47\u001b[1;33m         \u001b[0mself\u001b[0m\u001b[1;33m.\u001b[0m\u001b[0msave\u001b[0m\u001b[1;33m(\u001b[0m\u001b[0msvgfilename\u001b[0m\u001b[1;33m)\u001b[0m\u001b[1;33m\u001b[0m\u001b[1;33m\u001b[0m\u001b[0m\n\u001b[0m\u001b[0;32m     48\u001b[0m         \u001b[1;32mreturn\u001b[0m \u001b[0msvgfilename\u001b[0m\u001b[1;33m\u001b[0m\u001b[1;33m\u001b[0m\u001b[0m\n\u001b[0;32m     49\u001b[0m \u001b[1;33m\u001b[0m\u001b[0m\n",
      "\u001b[1;32m~\\Anaconda3\\lib\\site-packages\\dtreeviz\\trees.py\u001b[0m in \u001b[0;36msave\u001b[1;34m(self, filename)\u001b[0m\n\u001b[0;32m     70\u001b[0m         \u001b[0mcmd\u001b[0m \u001b[1;33m=\u001b[0m \u001b[1;33m[\u001b[0m\u001b[1;34m\"dot\"\u001b[0m\u001b[1;33m,\u001b[0m \u001b[1;34mf\"-T{format}\"\u001b[0m\u001b[1;33m,\u001b[0m \u001b[1;34m\"-o\"\u001b[0m\u001b[1;33m,\u001b[0m \u001b[0mfilename\u001b[0m\u001b[1;33m,\u001b[0m \u001b[0mdotfilename\u001b[0m\u001b[1;33m]\u001b[0m\u001b[1;33m\u001b[0m\u001b[1;33m\u001b[0m\u001b[0m\n\u001b[0;32m     71\u001b[0m         \u001b[1;31m# print(' '.join(cmd))\u001b[0m\u001b[1;33m\u001b[0m\u001b[1;33m\u001b[0m\u001b[1;33m\u001b[0m\u001b[0m\n\u001b[1;32m---> 72\u001b[1;33m         \u001b[0mrun\u001b[0m\u001b[1;33m(\u001b[0m\u001b[0mcmd\u001b[0m\u001b[1;33m,\u001b[0m \u001b[0mcapture_output\u001b[0m\u001b[1;33m=\u001b[0m\u001b[1;32mTrue\u001b[0m\u001b[1;33m,\u001b[0m \u001b[0mcheck\u001b[0m\u001b[1;33m=\u001b[0m\u001b[1;32mTrue\u001b[0m\u001b[1;33m,\u001b[0m \u001b[0mquiet\u001b[0m\u001b[1;33m=\u001b[0m\u001b[1;32mFalse\u001b[0m\u001b[1;33m)\u001b[0m\u001b[1;33m\u001b[0m\u001b[1;33m\u001b[0m\u001b[0m\n\u001b[0m\u001b[0;32m     73\u001b[0m \u001b[1;33m\u001b[0m\u001b[0m\n\u001b[0;32m     74\u001b[0m         \u001b[1;32mif\u001b[0m \u001b[0mfilename\u001b[0m\u001b[1;33m.\u001b[0m\u001b[0mendswith\u001b[0m\u001b[1;33m(\u001b[0m\u001b[1;34m\".svg\"\u001b[0m\u001b[1;33m)\u001b[0m\u001b[1;33m:\u001b[0m\u001b[1;33m\u001b[0m\u001b[1;33m\u001b[0m\u001b[0m\n",
      "\u001b[1;32m~\\Anaconda3\\lib\\site-packages\\graphviz\\backend.py\u001b[0m in \u001b[0;36mrun\u001b[1;34m(cmd, input, capture_output, check, quiet, **kwargs)\u001b[0m\n\u001b[0;32m    160\u001b[0m     \u001b[1;32mexcept\u001b[0m \u001b[0mOSError\u001b[0m \u001b[1;32mas\u001b[0m \u001b[0me\u001b[0m\u001b[1;33m:\u001b[0m\u001b[1;33m\u001b[0m\u001b[1;33m\u001b[0m\u001b[0m\n\u001b[0;32m    161\u001b[0m         \u001b[1;32mif\u001b[0m \u001b[0me\u001b[0m\u001b[1;33m.\u001b[0m\u001b[0merrno\u001b[0m \u001b[1;33m==\u001b[0m \u001b[0merrno\u001b[0m\u001b[1;33m.\u001b[0m\u001b[0mENOENT\u001b[0m\u001b[1;33m:\u001b[0m\u001b[1;33m\u001b[0m\u001b[1;33m\u001b[0m\u001b[0m\n\u001b[1;32m--> 162\u001b[1;33m             \u001b[1;32mraise\u001b[0m \u001b[0mExecutableNotFound\u001b[0m\u001b[1;33m(\u001b[0m\u001b[0mcmd\u001b[0m\u001b[1;33m)\u001b[0m\u001b[1;33m\u001b[0m\u001b[1;33m\u001b[0m\u001b[0m\n\u001b[0m\u001b[0;32m    163\u001b[0m         \u001b[1;32melse\u001b[0m\u001b[1;33m:\u001b[0m\u001b[1;33m\u001b[0m\u001b[1;33m\u001b[0m\u001b[0m\n\u001b[0;32m    164\u001b[0m             \u001b[1;32mraise\u001b[0m\u001b[1;33m\u001b[0m\u001b[1;33m\u001b[0m\u001b[0m\n",
      "\u001b[1;31mExecutableNotFound\u001b[0m: failed to execute ['dot', '-Tsvg', '-o', 'C:\\\\Users\\\\supra\\\\AppData\\\\Local\\\\Temp\\\\DTreeViz_8660.svg', 'C:/Users/supra/AppData/Local/Temp\\\\DTreeViz_8660'], make sure the Graphviz executables are on your systems' PATH"
     ]
    }
   ],
   "source": [
    "from dtreeviz.trees import dtreeviz\n",
    "viz = dtreeviz(clf_best, Xlr, Ylr, target_name=\"German Credit\", feature_names=gc_features.columns, class_names=list(label_encoder.classes_))\n",
    "viz.view()"
   ]
  },
  {
   "cell_type": "code",
   "execution_count": 23,
   "metadata": {},
   "outputs": [
    {
     "data": {
      "text/plain": [
       "Index(['Duration', 'Amount', 'InstallmentRatePercentage'], dtype='object')"
      ]
     },
     "execution_count": 23,
     "metadata": {},
     "output_type": "execute_result"
    }
   ],
   "source": [
    "gc_features.columns[0:3]"
   ]
  },
  {
   "cell_type": "code",
   "execution_count": 28,
   "metadata": {},
   "outputs": [],
   "source": [
    "gc_traget_values=(gc_data.Class==\"Good\").values\n",
    "label_encoder=preprocessing.LabelEncoder()\n",
    "label_encoder.fit(gc_traget_values)\n",
    "gc_target = label_encoder.transform(gc_traget_values)"
   ]
  },
  {
   "cell_type": "code",
   "execution_count": 33,
   "metadata": {},
   "outputs": [
    {
     "data": {
      "text/plain": [
       "[False, True]"
      ]
     },
     "execution_count": 33,
     "metadata": {},
     "output_type": "execute_result"
    }
   ],
   "source": [
    "list(label_encoder.classes_)"
   ]
  },
  {
   "cell_type": "markdown",
   "metadata": {},
   "source": [
    "## Random Forests"
   ]
  },
  {
   "cell_type": "markdown",
   "metadata": {},
   "source": [
    "As discussed in the lecture videos, Decision Tree algorithms also have certain undesireable properties. Mainly the have low bias, which is good, but tend to have high variance - which is *not* so good (more about this problem here: https://en.wikipedia.org/wiki/Bias%E2%80%93variance_tradeoff)."
   ]
  },
  {
   "cell_type": "markdown",
   "metadata": {},
   "source": [
    "Noticing these problems, the late Professor Leo Breiman, in 2001, developed the Random Forests algorithm, which mitigates these problems, while at the same time providing even higher predictive accuracy than the majority of Decision Tree algorithm implementations. While the curriculum contains two excellent lectures on Random Forests, if you're interested, you can dive into the original paper here: https://link.springer.com/content/pdf/10.1023%2FA%3A1010933404324.pdf."
   ]
  },
  {
   "cell_type": "markdown",
   "metadata": {},
   "source": [
    "In the next part of this assignment, your are going to use the same \"German Credit\" dataset to train, tune, and measure the performance of a Random Forests model. You will also see certain functionalities that this model, even though it's a bit of a \"black box\", provides for some degree of interpretability."
   ]
  },
  {
   "cell_type": "markdown",
   "metadata": {},
   "source": [
    "First, let's build a Random Forests model, using the same best practices that you've used for your Decision Trees model. You can reuse the things you've already imported there, so no need to do any re-imports, new train/test splits, or loading up the data again."
   ]
  },
  {
   "cell_type": "code",
   "execution_count": 12,
   "metadata": {},
   "outputs": [],
   "source": [
    "from sklearn.ensemble import RandomForestClassifier\n",
    "from pprint import pprint"
   ]
  },
  {
   "cell_type": "code",
   "execution_count": 7,
   "metadata": {
    "scrolled": false
   },
   "outputs": [
    {
     "name": "stdout",
     "output_type": "stream",
     "text": [
      "0.712\n"
     ]
    },
    {
     "name": "stderr",
     "output_type": "stream",
     "text": [
      "C:\\Users\\supra\\Anaconda3\\lib\\site-packages\\sklearn\\ensemble\\forest.py:245: FutureWarning: The default value of n_estimators will change from 10 in version 0.20 to 100 in 0.22.\n",
      "  \"10 in version 0.20 to 100 in 0.22.\", FutureWarning)\n"
     ]
    }
   ],
   "source": [
    "# Your code here! :)\n",
    "\n",
    "rfc = RandomForestClassifier(random_state=1)\n",
    "rfc = rfc.fit(Xlr, Ylr)\n",
    "\n",
    "print(accuracy_score(rfc.predict(Xtestlr), Ytestlr))"
   ]
  },
  {
   "cell_type": "code",
   "execution_count": 9,
   "metadata": {},
   "outputs": [
    {
     "data": {
      "text/plain": [
       "{'bootstrap': True,\n",
       " 'class_weight': None,\n",
       " 'criterion': 'gini',\n",
       " 'max_depth': None,\n",
       " 'max_features': 'auto',\n",
       " 'max_leaf_nodes': None,\n",
       " 'min_impurity_decrease': 0.0,\n",
       " 'min_impurity_split': None,\n",
       " 'min_samples_leaf': 1,\n",
       " 'min_samples_split': 2,\n",
       " 'min_weight_fraction_leaf': 0.0,\n",
       " 'n_estimators': 10,\n",
       " 'n_jobs': None,\n",
       " 'oob_score': False,\n",
       " 'random_state': 1,\n",
       " 'verbose': 0,\n",
       " 'warm_start': False}"
      ]
     },
     "execution_count": 9,
     "metadata": {},
     "output_type": "execute_result"
    }
   ],
   "source": [
    "rfc.get_params()"
   ]
  },
  {
   "cell_type": "markdown",
   "metadata": {},
   "source": [
    "## i tried to run with following parameters but it ran for 12 hours and did not return any results\n",
    "{'bootstrap': [True, False],\n",
    " 'max_depth': array([ 10.,  20.,  30.,  40.,  50.,  60.,  70.,  80.,  90., 100., 110.]),\n",
    " 'max_features': ['auto', 'sqrt'],\n",
    " 'min_samples_leaf': array([0.1, 0.2, 0.3, 0.4, 0.5]),\n",
    " 'min_samples_split': array([0.1  , 0.325, 0.55 , 0.775, 1.   ]),\n",
    " 'n_estimators': [200, 400, 600, 800, 1000, 1200, 1400, 1600, 1800, 2000]}"
   ]
  },
  {
   "cell_type": "code",
   "execution_count": 24,
   "metadata": {},
   "outputs": [
    {
     "name": "stdout",
     "output_type": "stream",
     "text": [
      "{'max_depth': array([40., 50., 60., 70., 80.]),\n",
      " 'max_features': ['auto', 'sqrt'],\n",
      " 'n_estimators': [200, 650, 1100, 1550, 2000]}\n"
     ]
    }
   ],
   "source": [
    "n_estimators = [int(x) for x in np.linspace(start = 200, stop = 2000, num = 5)]\n",
    "max_depth = np.linspace(40,80,5)\n",
    "#min_samples_split = np.linspace(0.1,1.0, 5)\n",
    "#min_samples_leaf = np.linspace(0.1,0.5,5)\n",
    "max_features = ['auto', 'sqrt']\n",
    "#bootstrap = [True, False]\n",
    "random_grid = {'n_estimators': n_estimators,\n",
    "               'max_features': max_features,\n",
    "               'max_depth': max_depth}\n",
    "pprint(random_grid)"
   ]
  },
  {
   "cell_type": "code",
   "execution_count": 21,
   "metadata": {},
   "outputs": [
    {
     "data": {
      "text/plain": [
       "array([ 1.,  2.,  3.,  4.,  5.,  6.,  7.,  8.,  9., 10., 11., 12., 13.,\n",
       "       14., 15., 16., 17., 18., 19., 20., 21., 22., 23., 24., 25., 26.,\n",
       "       27., 28., 29., 30., 31., 32.])"
      ]
     },
     "execution_count": 21,
     "metadata": {},
     "output_type": "execute_result"
    }
   ],
   "source": [
    "np.linspace(1,32,32,endpoint=True)"
   ]
  },
  {
   "cell_type": "code",
   "execution_count": 25,
   "metadata": {
    "scrolled": false
   },
   "outputs": [
    {
     "data": {
      "text/plain": [
       "(RandomForestClassifier(bootstrap=True, class_weight=None, criterion='gini',\n",
       "                        max_depth=40.0, max_features='auto', max_leaf_nodes=None,\n",
       "                        min_impurity_decrease=0.0, min_impurity_split=None,\n",
       "                        min_samples_leaf=1, min_samples_split=2,\n",
       "                        min_weight_fraction_leaf=0.0, n_estimators=1100,\n",
       "                        n_jobs=None, oob_score=False, random_state=1, verbose=0,\n",
       "                        warm_start=False),\n",
       " {'max_depth': 40.0, 'max_features': 'auto', 'n_estimators': 1100},\n",
       " 0.7786666666666666)"
      ]
     },
     "execution_count": 25,
     "metadata": {},
     "output_type": "execute_result"
    }
   ],
   "source": [
    "rfc_tune= RandomForestClassifier(random_state=1)\n",
    "fitmodel = GridSearchCV(rfc_tune, param_grid=random_grid, cv=5)\n",
    "fitmodel.fit(Xlr, Ylr)\n",
    "fitmodel.best_estimator_, fitmodel.best_params_, fitmodel.best_score_"
   ]
  },
  {
   "cell_type": "code",
   "execution_count": 26,
   "metadata": {
    "scrolled": true
   },
   "outputs": [
    {
     "name": "stdout",
     "output_type": "stream",
     "text": [
      "0.712\n"
     ]
    },
    {
     "name": "stderr",
     "output_type": "stream",
     "text": [
      "C:\\Users\\supra\\Anaconda3\\lib\\site-packages\\sklearn\\ensemble\\forest.py:245: FutureWarning: The default value of n_estimators will change from 10 in version 0.20 to 100 in 0.22.\n",
      "  \"10 in version 0.20 to 100 in 0.22.\", FutureWarning)\n"
     ]
    }
   ],
   "source": [
    "rfc_tune.fit(Xlr, Ylr)\n",
    "print(accuracy_score(rfc_tune.predict(Xtestlr),Ytestlr))"
   ]
  },
  {
   "cell_type": "code",
   "execution_count": null,
   "metadata": {},
   "outputs": [],
   "source": [
    "## Well with default parameters i got 0.712 and tuning the parameters also i got same test score 0.712"
   ]
  },
  {
   "cell_type": "markdown",
   "metadata": {},
   "source": [
    "As mentioned, there are certain ways to \"peek\" into a model created by the Random Forests algorithm. The first, and most popular one, is the Feature Importance calculation functionality. This allows the ML practitioner to see an ordering of the importance of the features that have contributed the most to the predictive accuracy of the model. \n",
    "\n",
    "You can see how to use this in the scikit-learn documentation (http://scikit-learn.org/stable/modules/generated/sklearn.ensemble.RandomForestClassifier.html#sklearn.ensemble.RandomForestClassifier.feature_importances_). Now, if you tried this, you would just get an ordered table of not directly interpretable numeric values. Thus, it's much more useful to show the feature importance in a visual way. You can see an example of how that's done here: http://scikit-learn.org/stable/auto_examples/ensemble/plot_forest_importances.html#sphx-glr-auto-examples-ensemble-plot-forest-importances-py\n",
    "\n",
    "Now you try! Let's visualize the importance of features from your Random Forests model!"
   ]
  },
  {
   "cell_type": "code",
   "execution_count": 52,
   "metadata": {},
   "outputs": [
    {
     "name": "stdout",
     "output_type": "stream",
     "text": [
      "Automatically created module for IPython interactive environment\n",
      "Feature ranking:\n",
      "1. feature 1 (0.089754)\n",
      "2. feature 0 (0.083095)\n",
      "3. feature 4 (0.070918)\n",
      "4. feature 12 (0.041004)\n",
      "5. feature 9 (0.035121)\n",
      "6. feature 3 (0.032083)\n",
      "7. feature 2 (0.031239)\n",
      "8. feature 17 (0.029020)\n",
      "9. feature 47 (0.022731)\n",
      "10. feature 53 (0.022086)\n"
     ]
    },
    {
     "data": {
      "image/png": "[encoded data removed]",
      "text/plain": [
       "<Figure size 432x288 with 1 Axes>"
      ]
     },
     "metadata": {
      "needs_background": "light"
     },
     "output_type": "display_data"
    }
   ],
   "source": [
    "# Your code here\n",
    "print(__doc__)\n",
    "import numpy as np\n",
    "import matplotlib.pyplot as plt\n",
    "\n",
    "from sklearn.datasets import make_classification\n",
    "from sklearn.ensemble import ExtraTreesClassifier\n",
    "\n",
    "rfc_tune.fit(Xlr, Ylr)\n",
    "importances = rfc_tune.feature_importances_\n",
    "std = np.std([tree.feature_importances_ for tree in rfc_tune.estimators_],axis=0)\n",
    "indices = np.argsort(importances)[::-1]\n",
    "\n",
    "# Print the feature ranking\n",
    "print(\"Feature ranking:\")\n",
    "\n",
    "for f in range(10):\n",
    "    print(\"%d. feature %d (%f)\" % (f + 1, indices[f], importances[indices[f]]))\n",
    "    \n",
    "plt.figure()\n",
    "plt.title(\"Feature importances\")\n",
    "plt.bar(range(10), importances[indices[:10]],\n",
    "       color=\"r\", yerr=std[indices[:10]], align=\"center\")\n",
    "plt.xticks(range(10), indices)\n",
    "plt.xlim([-1, 10])\n",
    "\n",
    "plt.show()"
   ]
  },
  {
   "cell_type": "code",
   "execution_count": 53,
   "metadata": {},
   "outputs": [
    {
     "data": {
      "text/plain": [
       "Index(['Duration', 'Amount', 'InstallmentRatePercentage', 'ResidenceDuration',\n",
       "       'Age', 'NumberExistingCredits', 'NumberPeopleMaintenance', 'Telephone',\n",
       "       'ForeignWorker', 'Class'],\n",
       "      dtype='object')"
      ]
     },
     "execution_count": 53,
     "metadata": {},
     "output_type": "execute_result"
    }
   ],
   "source": [
    "gc_data.columns[:10]"
   ]
  },
  {
   "cell_type": "markdown",
   "metadata": {},
   "source": [
    " A final method for gaining some insight into the inner working of your Random Forests models is a so-called Partial Dependence Plot. The Partial Dependence Plot (PDP or PD plot) shows the marginal effect of a feature on the predicted outcome of a previously fit model. The prediction function is fixed at a few values of the chosen features and averaged over the other features. A partial dependence plot can show if the relationship between the target and a feature is linear, monotonic or more complex. \n",
    "\n",
    "In scikit-learn, PDPs are implemented and available for certain algorithms, but at this point (version 0.20.0) they are not yet implemented for Random Forests. Thankfully, there is an add-on package called **PDPbox** (https://pdpbox.readthedocs.io/en/latest/) which adds this functionality to Random Forests. The package is easy to install through pip."
   ]
  },
  {
   "cell_type": "code",
   "execution_count": 54,
   "metadata": {},
   "outputs": [
    {
     "name": "stdout",
     "output_type": "stream",
     "text": [
      "Collecting pdpbox\n",
      "  Downloading https://files.pythonhosted.org/packages/87/23/ac7da5ba1c6c03a87c412e7e7b6e91a10d6ecf4474906c3e736f93940d49/PDPbox-0.2.0.tar.gz (57.7MB)\n",
      "Requirement already satisfied: pandas in c:\\users\\supra\\anaconda3\\lib\\site-packages (from pdpbox) (0.24.2)\n",
      "Requirement already satisfied: numpy in c:\\users\\supra\\anaconda3\\lib\\site-packages (from pdpbox) (1.16.4)\n",
      "Requirement already satisfied: scipy in c:\\users\\supra\\anaconda3\\lib\\site-packages (from pdpbox) (1.2.1)\n",
      "Requirement already satisfied: matplotlib>=2.1.2 in c:\\users\\supra\\anaconda3\\lib\\site-packages (from pdpbox) (3.1.0)\n",
      "Requirement already satisfied: joblib in c:\\users\\supra\\anaconda3\\lib\\site-packages (from pdpbox) (0.13.2)\n",
      "Requirement already satisfied: psutil in c:\\users\\supra\\anaconda3\\lib\\site-packages (from pdpbox) (5.6.3)\n",
      "Requirement already satisfied: scikit-learn in c:\\users\\supra\\anaconda3\\lib\\site-packages (from pdpbox) (0.21.2)\n",
      "Requirement already satisfied: pytz>=2011k in c:\\users\\supra\\anaconda3\\lib\\site-packages (from pandas->pdpbox) (2019.1)\n",
      "Requirement already satisfied: python-dateutil>=2.5.0 in c:\\users\\supra\\anaconda3\\lib\\site-packages (from pandas->pdpbox) (2.8.0)\n",
      "Requirement already satisfied: cycler>=0.10 in c:\\users\\supra\\anaconda3\\lib\\site-packages (from matplotlib>=2.1.2->pdpbox) (0.10.0)\n",
      "Requirement already satisfied: kiwisolver>=1.0.1 in c:\\users\\supra\\anaconda3\\lib\\site-packages (from matplotlib>=2.1.2->pdpbox) (1.1.0)\n",
      "Requirement already satisfied: pyparsing!=2.0.4,!=2.1.2,!=2.1.6,>=2.0.1 in c:\\users\\supra\\anaconda3\\lib\\site-packages (from matplotlib>=2.1.2->pdpbox) (2.4.0)\n",
      "Requirement already satisfied: six>=1.5 in c:\\users\\supra\\anaconda3\\lib\\site-packages (from python-dateutil>=2.5.0->pandas->pdpbox) (1.12.0)\n",
      "Requirement already satisfied: setuptools in c:\\users\\supra\\anaconda3\\lib\\site-packages (from kiwisolver>=1.0.1->matplotlib>=2.1.2->pdpbox) (41.0.1)\n",
      "Building wheels for collected packages: pdpbox\n",
      "  Building wheel for pdpbox (setup.py): started\n",
      "  Building wheel for pdpbox (setup.py): finished with status 'done'\n",
      "  Stored in directory: C:\\Users\\supra\\AppData\\Local\\pip\\Cache\\wheels\\7d\\08\\51\\63fd122b04a2c87d780464eeffb94867c75bd96a64d500a3fe\n",
      "Successfully built pdpbox\n",
      "Installing collected packages: pdpbox\n",
      "Successfully installed pdpbox-0.2.0\n"
     ]
    }
   ],
   "source": [
    "! pip install pdpbox"
   ]
  },
  {
   "cell_type": "markdown",
   "metadata": {},
   "source": [
    "While we encourage you to read the documentation for the package (and reading package documentation in general is a good habit to develop), the authors of the package have also written an excellent blog post on how to use it, showing examples on different algorithms from scikit-learn (the Random Forests example is towards the end of the blog post): https://briangriner.github.io/Partial_Dependence_Plots_presentation-BrianGriner-PrincetonPublicLibrary-4.14.18-updated-4.22.18.html"
   ]
  },
  {
   "cell_type": "markdown",
   "metadata": {},
   "source": [
    "So, armed with this new knowledge, feel free to pick a few features, and make a couple of Partial Dependence Plots of your own!"
   ]
  },
  {
   "cell_type": "code",
   "execution_count": 66,
   "metadata": {},
   "outputs": [
    {
     "ename": "ValueError",
     "evalue": "could not convert string to float: 'Good'",
     "output_type": "error",
     "traceback": [
      "\u001b[1;31m---------------------------------------------------------------------------\u001b[0m",
      "\u001b[1;31mValueError\u001b[0m                                Traceback (most recent call last)",
      "\u001b[1;32m<ipython-input-66-ca6c4d04ab63>\u001b[0m in \u001b[0;36m<module>\u001b[1;34m\u001b[0m\n\u001b[0;32m      2\u001b[0m \u001b[1;32mimport\u001b[0m \u001b[0mpdpbox\u001b[0m\u001b[1;33m\u001b[0m\u001b[1;33m\u001b[0m\u001b[0m\n\u001b[0;32m      3\u001b[0m \u001b[1;32mfrom\u001b[0m \u001b[0mpdpbox\u001b[0m \u001b[1;32mimport\u001b[0m \u001b[0mpdp\u001b[0m\u001b[1;33m\u001b[0m\u001b[1;33m\u001b[0m\u001b[0m\n\u001b[1;32m----> 4\u001b[1;33m \u001b[0mpdp_amount_class\u001b[0m \u001b[1;33m=\u001b[0m \u001b[0mpdp\u001b[0m\u001b[1;33m.\u001b[0m\u001b[0mpdp_interact\u001b[0m\u001b[1;33m(\u001b[0m\u001b[0mrfc_tune\u001b[0m\u001b[1;33m,\u001b[0m\u001b[0mgc_data\u001b[0m\u001b[1;33m,\u001b[0m\u001b[1;33m[\u001b[0m\u001b[0mx\u001b[0m \u001b[1;32mfor\u001b[0m \u001b[0mx\u001b[0m \u001b[1;32min\u001b[0m \u001b[0mgc_data\u001b[0m\u001b[1;33m.\u001b[0m\u001b[0mcolumns\u001b[0m\u001b[1;33m]\u001b[0m\u001b[1;33m,\u001b[0m\u001b[1;33m[\u001b[0m\u001b[1;34m'Amount'\u001b[0m\u001b[1;33m,\u001b[0m\u001b[1;34m'Class'\u001b[0m\u001b[1;33m]\u001b[0m\u001b[1;33m)\u001b[0m\u001b[1;33m\u001b[0m\u001b[1;33m\u001b[0m\u001b[0m\n\u001b[0m",
      "\u001b[1;32m~\\Anaconda3\\lib\\site-packages\\pdpbox\\pdp.py\u001b[0m in \u001b[0;36mpdp_interact\u001b[1;34m(model, dataset, model_features, features, num_grid_points, grid_types, percentile_ranges, grid_ranges, cust_grid_points, memory_limit, n_jobs, predict_kwds, data_transformer)\u001b[0m\n\u001b[0;32m    556\u001b[0m             \u001b[0mnum_grid_points\u001b[0m\u001b[1;33m=\u001b[0m\u001b[0mnum_grid_points\u001b[0m\u001b[1;33m[\u001b[0m\u001b[0midx\u001b[0m\u001b[1;33m]\u001b[0m\u001b[1;33m,\u001b[0m \u001b[0mgrid_type\u001b[0m\u001b[1;33m=\u001b[0m\u001b[0mgrid_types\u001b[0m\u001b[1;33m[\u001b[0m\u001b[0midx\u001b[0m\u001b[1;33m]\u001b[0m\u001b[1;33m,\u001b[0m \u001b[0mpercentile_range\u001b[0m\u001b[1;33m=\u001b[0m\u001b[0mpercentile_ranges\u001b[0m\u001b[1;33m[\u001b[0m\u001b[0midx\u001b[0m\u001b[1;33m]\u001b[0m\u001b[1;33m,\u001b[0m\u001b[1;33m\u001b[0m\u001b[1;33m\u001b[0m\u001b[0m\n\u001b[0;32m    557\u001b[0m             \u001b[0mgrid_range\u001b[0m\u001b[1;33m=\u001b[0m\u001b[0mgrid_ranges\u001b[0m\u001b[1;33m[\u001b[0m\u001b[0midx\u001b[0m\u001b[1;33m]\u001b[0m\u001b[1;33m,\u001b[0m \u001b[0mcust_grid_points\u001b[0m\u001b[1;33m=\u001b[0m\u001b[0mcust_grid_points\u001b[0m\u001b[1;33m[\u001b[0m\u001b[0midx\u001b[0m\u001b[1;33m]\u001b[0m\u001b[1;33m,\u001b[0m \u001b[0mmemory_limit\u001b[0m\u001b[1;33m=\u001b[0m\u001b[0mmemory_limit\u001b[0m\u001b[1;33m,\u001b[0m\u001b[1;33m\u001b[0m\u001b[1;33m\u001b[0m\u001b[0m\n\u001b[1;32m--> 558\u001b[1;33m             n_jobs=n_jobs, predict_kwds=predict_kwds, data_transformer=data_transformer)\n\u001b[0m\u001b[0;32m    559\u001b[0m         \u001b[0mpdp_isolate_outs\u001b[0m\u001b[1;33m.\u001b[0m\u001b[0mappend\u001b[0m\u001b[1;33m(\u001b[0m\u001b[0mpdp_isolate_out\u001b[0m\u001b[1;33m)\u001b[0m\u001b[1;33m\u001b[0m\u001b[1;33m\u001b[0m\u001b[0m\n\u001b[0;32m    560\u001b[0m \u001b[1;33m\u001b[0m\u001b[0m\n",
      "\u001b[1;32m~\\Anaconda3\\lib\\site-packages\\pdpbox\\pdp.py\u001b[0m in \u001b[0;36mpdp_isolate\u001b[1;34m(model, dataset, model_features, feature, num_grid_points, grid_type, percentile_range, grid_range, cust_grid_points, memory_limit, n_jobs, predict_kwds, data_transformer)\u001b[0m\n\u001b[0;32m    157\u001b[0m             \u001b[0mfeature_grid\u001b[0m\u001b[1;33m,\u001b[0m \u001b[0mdata\u001b[0m\u001b[1;33m=\u001b[0m\u001b[0m_dataset\u001b[0m\u001b[1;33m,\u001b[0m \u001b[0mmodel\u001b[0m\u001b[1;33m=\u001b[0m\u001b[0mmodel\u001b[0m\u001b[1;33m,\u001b[0m \u001b[0mmodel_features\u001b[0m\u001b[1;33m=\u001b[0m\u001b[0mmodel_features\u001b[0m\u001b[1;33m,\u001b[0m \u001b[0mn_classes\u001b[0m\u001b[1;33m=\u001b[0m\u001b[0mn_classes\u001b[0m\u001b[1;33m,\u001b[0m\u001b[1;33m\u001b[0m\u001b[1;33m\u001b[0m\u001b[0m\n\u001b[0;32m    158\u001b[0m             feature=feature, feature_type=feature_type, predict_kwds=predict_kwds, data_transformer=data_transformer)\n\u001b[1;32m--> 159\u001b[1;33m         for feature_grid in feature_grids)\n\u001b[0m\u001b[0;32m    160\u001b[0m \u001b[1;33m\u001b[0m\u001b[0m\n\u001b[0;32m    161\u001b[0m     \u001b[1;32mif\u001b[0m \u001b[0mn_classes\u001b[0m \u001b[1;33m>\u001b[0m \u001b[1;36m2\u001b[0m\u001b[1;33m:\u001b[0m\u001b[1;33m\u001b[0m\u001b[1;33m\u001b[0m\u001b[0m\n",
      "\u001b[1;32m~\\Anaconda3\\lib\\site-packages\\joblib\\parallel.py\u001b[0m in \u001b[0;36m__call__\u001b[1;34m(self, iterable)\u001b[0m\n\u001b[0;32m    919\u001b[0m             \u001b[1;31m# remaining jobs.\u001b[0m\u001b[1;33m\u001b[0m\u001b[1;33m\u001b[0m\u001b[1;33m\u001b[0m\u001b[0m\n\u001b[0;32m    920\u001b[0m             \u001b[0mself\u001b[0m\u001b[1;33m.\u001b[0m\u001b[0m_iterating\u001b[0m \u001b[1;33m=\u001b[0m \u001b[1;32mFalse\u001b[0m\u001b[1;33m\u001b[0m\u001b[1;33m\u001b[0m\u001b[0m\n\u001b[1;32m--> 921\u001b[1;33m             \u001b[1;32mif\u001b[0m \u001b[0mself\u001b[0m\u001b[1;33m.\u001b[0m\u001b[0mdispatch_one_batch\u001b[0m\u001b[1;33m(\u001b[0m\u001b[0miterator\u001b[0m\u001b[1;33m)\u001b[0m\u001b[1;33m:\u001b[0m\u001b[1;33m\u001b[0m\u001b[1;33m\u001b[0m\u001b[0m\n\u001b[0m\u001b[0;32m    922\u001b[0m                 \u001b[0mself\u001b[0m\u001b[1;33m.\u001b[0m\u001b[0m_iterating\u001b[0m \u001b[1;33m=\u001b[0m \u001b[0mself\u001b[0m\u001b[1;33m.\u001b[0m\u001b[0m_original_iterator\u001b[0m \u001b[1;32mis\u001b[0m \u001b[1;32mnot\u001b[0m \u001b[1;32mNone\u001b[0m\u001b[1;33m\u001b[0m\u001b[1;33m\u001b[0m\u001b[0m\n\u001b[0;32m    923\u001b[0m \u001b[1;33m\u001b[0m\u001b[0m\n",
      "\u001b[1;32m~\\Anaconda3\\lib\\site-packages\\joblib\\parallel.py\u001b[0m in \u001b[0;36mdispatch_one_batch\u001b[1;34m(self, iterator)\u001b[0m\n\u001b[0;32m    757\u001b[0m                 \u001b[1;32mreturn\u001b[0m \u001b[1;32mFalse\u001b[0m\u001b[1;33m\u001b[0m\u001b[1;33m\u001b[0m\u001b[0m\n\u001b[0;32m    758\u001b[0m             \u001b[1;32melse\u001b[0m\u001b[1;33m:\u001b[0m\u001b[1;33m\u001b[0m\u001b[1;33m\u001b[0m\u001b[0m\n\u001b[1;32m--> 759\u001b[1;33m                 \u001b[0mself\u001b[0m\u001b[1;33m.\u001b[0m\u001b[0m_dispatch\u001b[0m\u001b[1;33m(\u001b[0m\u001b[0mtasks\u001b[0m\u001b[1;33m)\u001b[0m\u001b[1;33m\u001b[0m\u001b[1;33m\u001b[0m\u001b[0m\n\u001b[0m\u001b[0;32m    760\u001b[0m                 \u001b[1;32mreturn\u001b[0m \u001b[1;32mTrue\u001b[0m\u001b[1;33m\u001b[0m\u001b[1;33m\u001b[0m\u001b[0m\n\u001b[0;32m    761\u001b[0m \u001b[1;33m\u001b[0m\u001b[0m\n",
      "\u001b[1;32m~\\Anaconda3\\lib\\site-packages\\joblib\\parallel.py\u001b[0m in \u001b[0;36m_dispatch\u001b[1;34m(self, batch)\u001b[0m\n\u001b[0;32m    714\u001b[0m         \u001b[1;32mwith\u001b[0m \u001b[0mself\u001b[0m\u001b[1;33m.\u001b[0m\u001b[0m_lock\u001b[0m\u001b[1;33m:\u001b[0m\u001b[1;33m\u001b[0m\u001b[1;33m\u001b[0m\u001b[0m\n\u001b[0;32m    715\u001b[0m             \u001b[0mjob_idx\u001b[0m \u001b[1;33m=\u001b[0m \u001b[0mlen\u001b[0m\u001b[1;33m(\u001b[0m\u001b[0mself\u001b[0m\u001b[1;33m.\u001b[0m\u001b[0m_jobs\u001b[0m\u001b[1;33m)\u001b[0m\u001b[1;33m\u001b[0m\u001b[1;33m\u001b[0m\u001b[0m\n\u001b[1;32m--> 716\u001b[1;33m             \u001b[0mjob\u001b[0m \u001b[1;33m=\u001b[0m \u001b[0mself\u001b[0m\u001b[1;33m.\u001b[0m\u001b[0m_backend\u001b[0m\u001b[1;33m.\u001b[0m\u001b[0mapply_async\u001b[0m\u001b[1;33m(\u001b[0m\u001b[0mbatch\u001b[0m\u001b[1;33m,\u001b[0m \u001b[0mcallback\u001b[0m\u001b[1;33m=\u001b[0m\u001b[0mcb\u001b[0m\u001b[1;33m)\u001b[0m\u001b[1;33m\u001b[0m\u001b[1;33m\u001b[0m\u001b[0m\n\u001b[0m\u001b[0;32m    717\u001b[0m             \u001b[1;31m# A job can complete so quickly than its callback is\u001b[0m\u001b[1;33m\u001b[0m\u001b[1;33m\u001b[0m\u001b[1;33m\u001b[0m\u001b[0m\n\u001b[0;32m    718\u001b[0m             \u001b[1;31m# called before we get here, causing self._jobs to\u001b[0m\u001b[1;33m\u001b[0m\u001b[1;33m\u001b[0m\u001b[1;33m\u001b[0m\u001b[0m\n",
      "\u001b[1;32m~\\Anaconda3\\lib\\site-packages\\joblib\\_parallel_backends.py\u001b[0m in \u001b[0;36mapply_async\u001b[1;34m(self, func, callback)\u001b[0m\n\u001b[0;32m    180\u001b[0m     \u001b[1;32mdef\u001b[0m \u001b[0mapply_async\u001b[0m\u001b[1;33m(\u001b[0m\u001b[0mself\u001b[0m\u001b[1;33m,\u001b[0m \u001b[0mfunc\u001b[0m\u001b[1;33m,\u001b[0m \u001b[0mcallback\u001b[0m\u001b[1;33m=\u001b[0m\u001b[1;32mNone\u001b[0m\u001b[1;33m)\u001b[0m\u001b[1;33m:\u001b[0m\u001b[1;33m\u001b[0m\u001b[1;33m\u001b[0m\u001b[0m\n\u001b[0;32m    181\u001b[0m         \u001b[1;34m\"\"\"Schedule a func to be run\"\"\"\u001b[0m\u001b[1;33m\u001b[0m\u001b[1;33m\u001b[0m\u001b[0m\n\u001b[1;32m--> 182\u001b[1;33m         \u001b[0mresult\u001b[0m \u001b[1;33m=\u001b[0m \u001b[0mImmediateResult\u001b[0m\u001b[1;33m(\u001b[0m\u001b[0mfunc\u001b[0m\u001b[1;33m)\u001b[0m\u001b[1;33m\u001b[0m\u001b[1;33m\u001b[0m\u001b[0m\n\u001b[0m\u001b[0;32m    183\u001b[0m         \u001b[1;32mif\u001b[0m \u001b[0mcallback\u001b[0m\u001b[1;33m:\u001b[0m\u001b[1;33m\u001b[0m\u001b[1;33m\u001b[0m\u001b[0m\n\u001b[0;32m    184\u001b[0m             \u001b[0mcallback\u001b[0m\u001b[1;33m(\u001b[0m\u001b[0mresult\u001b[0m\u001b[1;33m)\u001b[0m\u001b[1;33m\u001b[0m\u001b[1;33m\u001b[0m\u001b[0m\n",
      "\u001b[1;32m~\\Anaconda3\\lib\\site-packages\\joblib\\_parallel_backends.py\u001b[0m in \u001b[0;36m__init__\u001b[1;34m(self, batch)\u001b[0m\n\u001b[0;32m    547\u001b[0m         \u001b[1;31m# Don't delay the application, to avoid keeping the input\u001b[0m\u001b[1;33m\u001b[0m\u001b[1;33m\u001b[0m\u001b[1;33m\u001b[0m\u001b[0m\n\u001b[0;32m    548\u001b[0m         \u001b[1;31m# arguments in memory\u001b[0m\u001b[1;33m\u001b[0m\u001b[1;33m\u001b[0m\u001b[1;33m\u001b[0m\u001b[0m\n\u001b[1;32m--> 549\u001b[1;33m         \u001b[0mself\u001b[0m\u001b[1;33m.\u001b[0m\u001b[0mresults\u001b[0m \u001b[1;33m=\u001b[0m \u001b[0mbatch\u001b[0m\u001b[1;33m(\u001b[0m\u001b[1;33m)\u001b[0m\u001b[1;33m\u001b[0m\u001b[1;33m\u001b[0m\u001b[0m\n\u001b[0m\u001b[0;32m    550\u001b[0m \u001b[1;33m\u001b[0m\u001b[0m\n\u001b[0;32m    551\u001b[0m     \u001b[1;32mdef\u001b[0m \u001b[0mget\u001b[0m\u001b[1;33m(\u001b[0m\u001b[0mself\u001b[0m\u001b[1;33m)\u001b[0m\u001b[1;33m:\u001b[0m\u001b[1;33m\u001b[0m\u001b[1;33m\u001b[0m\u001b[0m\n",
      "\u001b[1;32m~\\Anaconda3\\lib\\site-packages\\joblib\\parallel.py\u001b[0m in \u001b[0;36m__call__\u001b[1;34m(self)\u001b[0m\n\u001b[0;32m    223\u001b[0m         \u001b[1;32mwith\u001b[0m \u001b[0mparallel_backend\u001b[0m\u001b[1;33m(\u001b[0m\u001b[0mself\u001b[0m\u001b[1;33m.\u001b[0m\u001b[0m_backend\u001b[0m\u001b[1;33m,\u001b[0m \u001b[0mn_jobs\u001b[0m\u001b[1;33m=\u001b[0m\u001b[0mself\u001b[0m\u001b[1;33m.\u001b[0m\u001b[0m_n_jobs\u001b[0m\u001b[1;33m)\u001b[0m\u001b[1;33m:\u001b[0m\u001b[1;33m\u001b[0m\u001b[1;33m\u001b[0m\u001b[0m\n\u001b[0;32m    224\u001b[0m             return [func(*args, **kwargs)\n\u001b[1;32m--> 225\u001b[1;33m                     for func, args, kwargs in self.items]\n\u001b[0m\u001b[0;32m    226\u001b[0m \u001b[1;33m\u001b[0m\u001b[0m\n\u001b[0;32m    227\u001b[0m     \u001b[1;32mdef\u001b[0m \u001b[0m__len__\u001b[0m\u001b[1;33m(\u001b[0m\u001b[0mself\u001b[0m\u001b[1;33m)\u001b[0m\u001b[1;33m:\u001b[0m\u001b[1;33m\u001b[0m\u001b[1;33m\u001b[0m\u001b[0m\n",
      "\u001b[1;32m~\\Anaconda3\\lib\\site-packages\\joblib\\parallel.py\u001b[0m in \u001b[0;36m<listcomp>\u001b[1;34m(.0)\u001b[0m\n\u001b[0;32m    223\u001b[0m         \u001b[1;32mwith\u001b[0m \u001b[0mparallel_backend\u001b[0m\u001b[1;33m(\u001b[0m\u001b[0mself\u001b[0m\u001b[1;33m.\u001b[0m\u001b[0m_backend\u001b[0m\u001b[1;33m,\u001b[0m \u001b[0mn_jobs\u001b[0m\u001b[1;33m=\u001b[0m\u001b[0mself\u001b[0m\u001b[1;33m.\u001b[0m\u001b[0m_n_jobs\u001b[0m\u001b[1;33m)\u001b[0m\u001b[1;33m:\u001b[0m\u001b[1;33m\u001b[0m\u001b[1;33m\u001b[0m\u001b[0m\n\u001b[0;32m    224\u001b[0m             return [func(*args, **kwargs)\n\u001b[1;32m--> 225\u001b[1;33m                     for func, args, kwargs in self.items]\n\u001b[0m\u001b[0;32m    226\u001b[0m \u001b[1;33m\u001b[0m\u001b[0m\n\u001b[0;32m    227\u001b[0m     \u001b[1;32mdef\u001b[0m \u001b[0m__len__\u001b[0m\u001b[1;33m(\u001b[0m\u001b[0mself\u001b[0m\u001b[1;33m)\u001b[0m\u001b[1;33m:\u001b[0m\u001b[1;33m\u001b[0m\u001b[1;33m\u001b[0m\u001b[0m\n",
      "\u001b[1;32m~\\Anaconda3\\lib\\site-packages\\pdpbox\\pdp_calc_utils.py\u001b[0m in \u001b[0;36m_calc_ice_lines\u001b[1;34m(feature_grid, data, model, model_features, n_classes, feature, feature_type, predict_kwds, data_transformer, unit_test)\u001b[0m\n\u001b[0;32m     42\u001b[0m \u001b[1;33m\u001b[0m\u001b[0m\n\u001b[0;32m     43\u001b[0m     \u001b[1;31m# get predictions for this chunk\u001b[0m\u001b[1;33m\u001b[0m\u001b[1;33m\u001b[0m\u001b[1;33m\u001b[0m\u001b[0m\n\u001b[1;32m---> 44\u001b[1;33m     \u001b[0mpreds\u001b[0m \u001b[1;33m=\u001b[0m \u001b[0mpredict\u001b[0m\u001b[1;33m(\u001b[0m\u001b[0m_data\u001b[0m\u001b[1;33m[\u001b[0m\u001b[0mmodel_features\u001b[0m\u001b[1;33m]\u001b[0m\u001b[1;33m,\u001b[0m \u001b[1;33m**\u001b[0m\u001b[0mpredict_kwds\u001b[0m\u001b[1;33m)\u001b[0m\u001b[1;33m\u001b[0m\u001b[1;33m\u001b[0m\u001b[0m\n\u001b[0m\u001b[0;32m     45\u001b[0m \u001b[1;33m\u001b[0m\u001b[0m\n\u001b[0;32m     46\u001b[0m     \u001b[1;32mif\u001b[0m \u001b[0mn_classes\u001b[0m \u001b[1;33m==\u001b[0m \u001b[1;36m0\u001b[0m\u001b[1;33m:\u001b[0m\u001b[1;33m\u001b[0m\u001b[1;33m\u001b[0m\u001b[0m\n",
      "\u001b[1;32m~\\Anaconda3\\lib\\site-packages\\sklearn\\ensemble\\forest.py\u001b[0m in \u001b[0;36mpredict_proba\u001b[1;34m(self, X)\u001b[0m\n\u001b[0;32m    586\u001b[0m         \u001b[0mcheck_is_fitted\u001b[0m\u001b[1;33m(\u001b[0m\u001b[0mself\u001b[0m\u001b[1;33m,\u001b[0m \u001b[1;34m'estimators_'\u001b[0m\u001b[1;33m)\u001b[0m\u001b[1;33m\u001b[0m\u001b[1;33m\u001b[0m\u001b[0m\n\u001b[0;32m    587\u001b[0m         \u001b[1;31m# Check data\u001b[0m\u001b[1;33m\u001b[0m\u001b[1;33m\u001b[0m\u001b[1;33m\u001b[0m\u001b[0m\n\u001b[1;32m--> 588\u001b[1;33m         \u001b[0mX\u001b[0m \u001b[1;33m=\u001b[0m \u001b[0mself\u001b[0m\u001b[1;33m.\u001b[0m\u001b[0m_validate_X_predict\u001b[0m\u001b[1;33m(\u001b[0m\u001b[0mX\u001b[0m\u001b[1;33m)\u001b[0m\u001b[1;33m\u001b[0m\u001b[1;33m\u001b[0m\u001b[0m\n\u001b[0m\u001b[0;32m    589\u001b[0m \u001b[1;33m\u001b[0m\u001b[0m\n\u001b[0;32m    590\u001b[0m         \u001b[1;31m# Assign chunk of trees to jobs\u001b[0m\u001b[1;33m\u001b[0m\u001b[1;33m\u001b[0m\u001b[1;33m\u001b[0m\u001b[0m\n",
      "\u001b[1;32m~\\Anaconda3\\lib\\site-packages\\sklearn\\ensemble\\forest.py\u001b[0m in \u001b[0;36m_validate_X_predict\u001b[1;34m(self, X)\u001b[0m\n\u001b[0;32m    357\u001b[0m                                  \"call `fit` before exploiting the model.\")\n\u001b[0;32m    358\u001b[0m \u001b[1;33m\u001b[0m\u001b[0m\n\u001b[1;32m--> 359\u001b[1;33m         \u001b[1;32mreturn\u001b[0m \u001b[0mself\u001b[0m\u001b[1;33m.\u001b[0m\u001b[0mestimators_\u001b[0m\u001b[1;33m[\u001b[0m\u001b[1;36m0\u001b[0m\u001b[1;33m]\u001b[0m\u001b[1;33m.\u001b[0m\u001b[0m_validate_X_predict\u001b[0m\u001b[1;33m(\u001b[0m\u001b[0mX\u001b[0m\u001b[1;33m,\u001b[0m \u001b[0mcheck_input\u001b[0m\u001b[1;33m=\u001b[0m\u001b[1;32mTrue\u001b[0m\u001b[1;33m)\u001b[0m\u001b[1;33m\u001b[0m\u001b[1;33m\u001b[0m\u001b[0m\n\u001b[0m\u001b[0;32m    360\u001b[0m \u001b[1;33m\u001b[0m\u001b[0m\n\u001b[0;32m    361\u001b[0m     \u001b[1;33m@\u001b[0m\u001b[0mproperty\u001b[0m\u001b[1;33m\u001b[0m\u001b[1;33m\u001b[0m\u001b[0m\n",
      "\u001b[1;32m~\\Anaconda3\\lib\\site-packages\\sklearn\\tree\\tree.py\u001b[0m in \u001b[0;36m_validate_X_predict\u001b[1;34m(self, X, check_input)\u001b[0m\n\u001b[0;32m    389\u001b[0m         \u001b[1;34m\"\"\"Validate X whenever one tries to predict, apply, predict_proba\"\"\"\u001b[0m\u001b[1;33m\u001b[0m\u001b[1;33m\u001b[0m\u001b[0m\n\u001b[0;32m    390\u001b[0m         \u001b[1;32mif\u001b[0m \u001b[0mcheck_input\u001b[0m\u001b[1;33m:\u001b[0m\u001b[1;33m\u001b[0m\u001b[1;33m\u001b[0m\u001b[0m\n\u001b[1;32m--> 391\u001b[1;33m             \u001b[0mX\u001b[0m \u001b[1;33m=\u001b[0m \u001b[0mcheck_array\u001b[0m\u001b[1;33m(\u001b[0m\u001b[0mX\u001b[0m\u001b[1;33m,\u001b[0m \u001b[0mdtype\u001b[0m\u001b[1;33m=\u001b[0m\u001b[0mDTYPE\u001b[0m\u001b[1;33m,\u001b[0m \u001b[0maccept_sparse\u001b[0m\u001b[1;33m=\u001b[0m\u001b[1;34m\"csr\"\u001b[0m\u001b[1;33m)\u001b[0m\u001b[1;33m\u001b[0m\u001b[1;33m\u001b[0m\u001b[0m\n\u001b[0m\u001b[0;32m    392\u001b[0m             if issparse(X) and (X.indices.dtype != np.intc or\n\u001b[0;32m    393\u001b[0m                                 X.indptr.dtype != np.intc):\n",
      "\u001b[1;32m~\\Anaconda3\\lib\\site-packages\\sklearn\\utils\\validation.py\u001b[0m in \u001b[0;36mcheck_array\u001b[1;34m(array, accept_sparse, accept_large_sparse, dtype, order, copy, force_all_finite, ensure_2d, allow_nd, ensure_min_samples, ensure_min_features, warn_on_dtype, estimator)\u001b[0m\n\u001b[0;32m    494\u001b[0m             \u001b[1;32mtry\u001b[0m\u001b[1;33m:\u001b[0m\u001b[1;33m\u001b[0m\u001b[1;33m\u001b[0m\u001b[0m\n\u001b[0;32m    495\u001b[0m                 \u001b[0mwarnings\u001b[0m\u001b[1;33m.\u001b[0m\u001b[0msimplefilter\u001b[0m\u001b[1;33m(\u001b[0m\u001b[1;34m'error'\u001b[0m\u001b[1;33m,\u001b[0m \u001b[0mComplexWarning\u001b[0m\u001b[1;33m)\u001b[0m\u001b[1;33m\u001b[0m\u001b[1;33m\u001b[0m\u001b[0m\n\u001b[1;32m--> 496\u001b[1;33m                 \u001b[0marray\u001b[0m \u001b[1;33m=\u001b[0m \u001b[0mnp\u001b[0m\u001b[1;33m.\u001b[0m\u001b[0masarray\u001b[0m\u001b[1;33m(\u001b[0m\u001b[0marray\u001b[0m\u001b[1;33m,\u001b[0m \u001b[0mdtype\u001b[0m\u001b[1;33m=\u001b[0m\u001b[0mdtype\u001b[0m\u001b[1;33m,\u001b[0m \u001b[0morder\u001b[0m\u001b[1;33m=\u001b[0m\u001b[0morder\u001b[0m\u001b[1;33m)\u001b[0m\u001b[1;33m\u001b[0m\u001b[1;33m\u001b[0m\u001b[0m\n\u001b[0m\u001b[0;32m    497\u001b[0m             \u001b[1;32mexcept\u001b[0m \u001b[0mComplexWarning\u001b[0m\u001b[1;33m:\u001b[0m\u001b[1;33m\u001b[0m\u001b[1;33m\u001b[0m\u001b[0m\n\u001b[0;32m    498\u001b[0m                 raise ValueError(\"Complex data not supported\\n\"\n",
      "\u001b[1;32m~\\Anaconda3\\lib\\site-packages\\numpy\\core\\numeric.py\u001b[0m in \u001b[0;36masarray\u001b[1;34m(a, dtype, order)\u001b[0m\n\u001b[0;32m    536\u001b[0m \u001b[1;33m\u001b[0m\u001b[0m\n\u001b[0;32m    537\u001b[0m     \"\"\"\n\u001b[1;32m--> 538\u001b[1;33m     \u001b[1;32mreturn\u001b[0m \u001b[0marray\u001b[0m\u001b[1;33m(\u001b[0m\u001b[0ma\u001b[0m\u001b[1;33m,\u001b[0m \u001b[0mdtype\u001b[0m\u001b[1;33m,\u001b[0m \u001b[0mcopy\u001b[0m\u001b[1;33m=\u001b[0m\u001b[1;32mFalse\u001b[0m\u001b[1;33m,\u001b[0m \u001b[0morder\u001b[0m\u001b[1;33m=\u001b[0m\u001b[0morder\u001b[0m\u001b[1;33m)\u001b[0m\u001b[1;33m\u001b[0m\u001b[1;33m\u001b[0m\u001b[0m\n\u001b[0m\u001b[0;32m    539\u001b[0m \u001b[1;33m\u001b[0m\u001b[0m\n\u001b[0;32m    540\u001b[0m \u001b[1;33m\u001b[0m\u001b[0m\n",
      "\u001b[1;31mValueError\u001b[0m: could not convert string to float: 'Good'"
     ]
    }
   ],
   "source": [
    "# Your code here!\n",
    "import pdpbox\n",
    "from pdpbox import pdp\n",
    "pdp_amount_class = pdp.pdp_interact(rfc_tune,gc_data,[x for x in gc_data.columns],['Amount','Class'])"
   ]
  },
  {
   "cell_type": "code",
   "execution_count": 65,
   "metadata": {},
   "outputs": [
    {
     "data": {
      "text/plain": [
       "array([[  24, 4151,    2, ...,    0,    1,    0],\n",
       "       [  48, 3609,    1, ...,    0,    1,    0],\n",
       "       [  12, 1412,    4, ...,    0,    0,    1],\n",
       "       ...,\n",
       "       [   9, 3832,    1, ...,    1,    0,    0],\n",
       "       [  18, 1928,    2, ...,    1,    0,    0],\n",
       "       [  36, 9857,    1, ...,    1,    0,    0]], dtype=int64)"
      ]
     },
     "execution_count": 65,
     "metadata": {},
     "output_type": "execute_result"
    }
   ],
   "source": [
    "\n",
    "Xlr"
   ]
  },
  {
   "cell_type": "markdown",
   "metadata": {},
   "source": [
    "## (Optional) Advanced Boosting-Based Algorithms"
   ]
  },
  {
   "cell_type": "markdown",
   "metadata": {},
   "source": [
    "As explained in the video lectures, the next generation of algorithms after Random Forests (that use Bagging, a.k.a. Bootstrap Aggregation) were developed using Boosting, and the first one of these were Gradient Boosted Machines, which are implemented in scikit-learn (http://scikit-learn.org/stable/modules/ensemble.html#gradient-tree-boosting)."
   ]
  },
  {
   "cell_type": "markdown",
   "metadata": {},
   "source": [
    "Still, in recent years, a number of variations on GBMs have been developed by different research amd industry groups, all of them bringing improvements, both in speed, accuracy and functionality to the original Gradient Boosting algorithms.\n",
    "\n",
    "In no order of preference, these are:\n",
    "1. **XGBoost**: https://xgboost.readthedocs.io/en/latest/\n",
    "2. **CatBoost**: https://tech.yandex.com/catboost/\n",
    "3. **LightGBM**: https://lightgbm.readthedocs.io/en/latest/"
   ]
  },
  {
   "cell_type": "markdown",
   "metadata": {},
   "source": [
    "If you're using the Anaconda distribution, these are all very easy to install:"
   ]
  },
  {
   "cell_type": "code",
   "execution_count": null,
   "metadata": {},
   "outputs": [],
   "source": [
    "! conda install -c anaconda py-xgboost"
   ]
  },
  {
   "cell_type": "code",
   "execution_count": null,
   "metadata": {},
   "outputs": [],
   "source": [
    "! conda install -c conda-forge catboost"
   ]
  },
  {
   "cell_type": "code",
   "execution_count": null,
   "metadata": {},
   "outputs": [],
   "source": [
    "! conda install -c conda-forge lightgbm"
   ]
  },
  {
   "cell_type": "markdown",
   "metadata": {},
   "source": [
    "Your task in this optional section of the mini project is to read the documentation of these three libraries, and apply all of them to the \"German Credit\" dataset, just like you did in the case of Decision Trees and Random Forests."
   ]
  },
  {
   "cell_type": "markdown",
   "metadata": {},
   "source": [
    "The final deliverable of this section should be a table (can be a pandas DataFrame) which shows the accuracy of all the five algorthms taught in this mini project in one place."
   ]
  },
  {
   "cell_type": "markdown",
   "metadata": {},
   "source": [
    "Happy modeling! :)"
   ]
  },
  {
   "cell_type": "code",
   "execution_count": null,
   "metadata": {},
   "outputs": [],
   "source": []
  }
 ],
 "metadata": {
  "kernelspec": {
   "display_name": "Python 3",
   "language": "python",
   "name": "python3"
  },
  "language_info": {
   "codemirror_mode": {
    "name": "ipython",
    "version": 3
   },
   "file_extension": ".py",
   "mimetype": "text/x-python",
   "name": "python",
   "nbconvert_exporter": "python",
   "pygments_lexer": "ipython3",
   "version": "3.7.3"
  }
 },
 "nbformat": 4,
 "nbformat_minor": 2
}
